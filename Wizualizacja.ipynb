{
 "cells": [
  {
   "cell_type": "code",
   "execution_count": 1,
   "metadata": {},
   "outputs": [],
   "source": [
    "import pandas as pd\n",
    "import numpy as np\n",
    "import matplotlib.pyplot as plt"
   ]
  },
  {
   "cell_type": "code",
   "execution_count": 2,
   "metadata": {
    "scrolled": true
   },
   "outputs": [],
   "source": [
    "uczestnicy = pd.read_csv('PPK_Uczestnicy.csv', sep=';')"
   ]
  },
  {
   "cell_type": "markdown",
   "metadata": {},
   "source": [
    "## Normalize AGE, reduce dim in NATIONALITY"
   ]
  },
  {
   "cell_type": "code",
   "execution_count": 3,
   "metadata": {},
   "outputs": [
    {
     "name": "stdout",
     "output_type": "stream",
     "text": [
      "[187, 114, 136, 117, 19, 188, 194, 124, 169, 89, 134, 127, 110, 99, 200, 3, 176, 17, 183, 98, 49, 76, 5, 120, 56]\n"
     ]
    }
   ],
   "source": [
    "n=25\n",
    "most_frequent_nationality = uczestnicy['NATIONALITY'].value_counts()[:n].index.tolist()\n",
    "print(most_frequent_nationality)\n",
    "uczestnicy['NATIONALITY'] = uczestnicy['NATIONALITY'] * uczestnicy['NATIONALITY'].isin(most_frequent_nationality)"
   ]
  },
  {
   "cell_type": "code",
   "execution_count": 4,
   "metadata": {},
   "outputs": [],
   "source": [
    "uczestnicy.drop('WORK_START', axis = 1, inplace = True)\n",
    "uczestnicy.drop('WORK_STOP', axis = 1, inplace = True)\n",
    "uczestnicy.drop('CREATED_AT', axis = 1, inplace = True)\n",
    "uczestnicy.drop('NUMERICAL_VALUE', axis = 1, inplace = True)\n",
    "uczestnicy.drop('UOZ_START_DATE', axis = 1, inplace = True)\n",
    "uczestnicy.drop('UOP_SIGN_DATE', axis = 1, inplace = True)\n",
    "\n",
    "uczestnicy = uczestnicy.assign(RESIGNED=uczestnicy['RESIGN_DATE'].fillna(0).astype(bool))\n",
    "uczestnicy['RESIGNED'] = uczestnicy['RESIGNED'].astype(int)\n",
    "uczestnicy.drop('SIGN_DATE', axis = 1, inplace = True)\n",
    "uczestnicy.drop('RESIGN_DATE', axis = 1, inplace = True)"
   ]
  },
  {
   "cell_type": "code",
   "execution_count": 5,
   "metadata": {},
   "outputs": [],
   "source": [
    "uczestnicy.head()\n",
    "uczestnicy[uczestnicy['SEX']==\"N\"] = np.nan"
   ]
  },
  {
   "cell_type": "markdown",
   "metadata": {},
   "source": [
    "## Pracodawcy"
   ]
  },
  {
   "cell_type": "code",
   "execution_count": 6,
   "metadata": {},
   "outputs": [
    {
     "data": {
      "text/html": [
       "<div>\n",
       "<style scoped>\n",
       "    .dataframe tbody tr th:only-of-type {\n",
       "        vertical-align: middle;\n",
       "    }\n",
       "\n",
       "    .dataframe tbody tr th {\n",
       "        vertical-align: top;\n",
       "    }\n",
       "\n",
       "    .dataframe thead th {\n",
       "        text-align: right;\n",
       "    }\n",
       "</style>\n",
       "<table border=\"1\" class=\"dataframe\">\n",
       "  <thead>\n",
       "    <tr style=\"text-align: right;\">\n",
       "      <th></th>\n",
       "      <th>ID</th>\n",
       "      <th>PPK_STAGE</th>\n",
       "      <th>LOGICAL_FACTOR_1</th>\n",
       "      <th>REGION_CODE</th>\n",
       "      <th>LOGICAL_FACTOR_2</th>\n",
       "      <th>VOIVODESHIP</th>\n",
       "      <th>PKD_CODE</th>\n",
       "      <th>COMPANY_SIZE</th>\n",
       "      <th>COMPANY_TYPE</th>\n",
       "    </tr>\n",
       "  </thead>\n",
       "  <tbody>\n",
       "    <tr>\n",
       "      <th>0</th>\n",
       "      <td>1385</td>\n",
       "      <td>2</td>\n",
       "      <td>False</td>\n",
       "      <td>42185</td>\n",
       "      <td>False</td>\n",
       "      <td>LUBUSKIE</td>\n",
       "      <td>75.50</td>\n",
       "      <td>E</td>\n",
       "      <td>3.0</td>\n",
       "    </tr>\n",
       "    <tr>\n",
       "      <th>1</th>\n",
       "      <td>123590</td>\n",
       "      <td>4</td>\n",
       "      <td>False</td>\n",
       "      <td>42128</td>\n",
       "      <td>False</td>\n",
       "      <td>DOLNOŚLĄSKIE</td>\n",
       "      <td>65.70</td>\n",
       "      <td>NaN</td>\n",
       "      <td>NaN</td>\n",
       "    </tr>\n",
       "    <tr>\n",
       "      <th>2</th>\n",
       "      <td>73241</td>\n",
       "      <td>4</td>\n",
       "      <td>False</td>\n",
       "      <td>64124</td>\n",
       "      <td>False</td>\n",
       "      <td>ŚLĄSKIE</td>\n",
       "      <td>62.17</td>\n",
       "      <td>B</td>\n",
       "      <td>23.0</td>\n",
       "    </tr>\n",
       "    <tr>\n",
       "      <th>3</th>\n",
       "      <td>119777</td>\n",
       "      <td>4</td>\n",
       "      <td>True</td>\n",
       "      <td>65283</td>\n",
       "      <td>False</td>\n",
       "      <td>LUBELSKIE</td>\n",
       "      <td>1.36</td>\n",
       "      <td>A</td>\n",
       "      <td>16.0</td>\n",
       "    </tr>\n",
       "    <tr>\n",
       "      <th>4</th>\n",
       "      <td>77729</td>\n",
       "      <td>2</td>\n",
       "      <td>False</td>\n",
       "      <td>43185</td>\n",
       "      <td>False</td>\n",
       "      <td>ŚLĄSKIE</td>\n",
       "      <td>69.24</td>\n",
       "      <td>D</td>\n",
       "      <td>23.0</td>\n",
       "    </tr>\n",
       "  </tbody>\n",
       "</table>\n",
       "</div>"
      ],
      "text/plain": [
       "       ID  PPK_STAGE  LOGICAL_FACTOR_1 REGION_CODE  LOGICAL_FACTOR_2  \\\n",
       "0    1385          2             False       42185             False   \n",
       "1  123590          4             False       42128             False   \n",
       "2   73241          4             False       64124             False   \n",
       "3  119777          4              True       65283             False   \n",
       "4   77729          2             False       43185             False   \n",
       "\n",
       "    VOIVODESHIP  PKD_CODE COMPANY_SIZE  COMPANY_TYPE  \n",
       "0      LUBUSKIE     75.50            E           3.0  \n",
       "1  DOLNOŚLĄSKIE     65.70          NaN           NaN  \n",
       "2       ŚLĄSKIE     62.17            B          23.0  \n",
       "3     LUBELSKIE      1.36            A          16.0  \n",
       "4       ŚLĄSKIE     69.24            D          23.0  "
      ]
     },
     "execution_count": 6,
     "metadata": {},
     "output_type": "execute_result"
    }
   ],
   "source": [
    "pracodawcy = pd.read_csv('PPK_Pracodawcy.csv', sep=';')\n",
    "pracodawcy.head()"
   ]
  },
  {
   "cell_type": "code",
   "execution_count": 7,
   "metadata": {},
   "outputs": [],
   "source": [
    "pracodawcy = pracodawcy.assign(GMINA=pracodawcy['REGION_CODE'].str[2:])\n",
    "pracodawcy = pracodawcy.assign(POWIAT=pracodawcy['REGION_CODE'].str[:2])\n",
    "pracodawcy.drop( 'REGION_CODE', axis = 1, inplace = True)\n",
    "pracodawcy['POWIAT'].replace(\"NA\", np.nan, inplace=True)\n",
    "pracodawcy['GMINA'].replace(\"NANANANA\", np.nan, inplace=True)"
   ]
  },
  {
   "cell_type": "code",
   "execution_count": 8,
   "metadata": {},
   "outputs": [
    {
     "data": {
      "text/plain": [
       "45    23392\n",
       "na    21075\n",
       "62    20621\n",
       "69    18921\n",
       "68    14652\n",
       "      ...  \n",
       "55       20\n",
       "36       13\n",
       "59        5\n",
       "52        5\n",
       "12        1\n",
       "Name: PKD_GROUP, Length: 88, dtype: int64"
      ]
     },
     "execution_count": 8,
     "metadata": {},
     "output_type": "execute_result"
    }
   ],
   "source": [
    "pracodawcy[['PKD_CODE']] = pracodawcy[['PKD_CODE']].astype('str')\n",
    "pracodawcy = pracodawcy.assign(PKD_GROUP=pracodawcy['PKD_CODE'].str[:2])\n",
    "pracodawcy.drop('PKD_CODE', axis=1, inplace=True)\n",
    "pracodawcy['PKD_GROUP'].value_counts()"
   ]
  },
  {
   "cell_type": "code",
   "execution_count": 9,
   "metadata": {},
   "outputs": [
    {
     "data": {
      "text/html": [
       "<div>\n",
       "<style scoped>\n",
       "    .dataframe tbody tr th:only-of-type {\n",
       "        vertical-align: middle;\n",
       "    }\n",
       "\n",
       "    .dataframe tbody tr th {\n",
       "        vertical-align: top;\n",
       "    }\n",
       "\n",
       "    .dataframe thead th {\n",
       "        text-align: right;\n",
       "    }\n",
       "</style>\n",
       "<table border=\"1\" class=\"dataframe\">\n",
       "  <thead>\n",
       "    <tr style=\"text-align: right;\">\n",
       "      <th></th>\n",
       "      <th>IS_SUSPENDED</th>\n",
       "      <th>MEMBER_ID</th>\n",
       "      <th>EMPL_ID</th>\n",
       "      <th>SEX</th>\n",
       "      <th>NATIONALITY</th>\n",
       "      <th>PPK_BANK</th>\n",
       "      <th>AGE</th>\n",
       "      <th>HAS_AE</th>\n",
       "      <th>HAS_AW</th>\n",
       "      <th>HAS_IP</th>\n",
       "      <th>PPK_STAGE</th>\n",
       "      <th>LOGICAL_FACTOR_1</th>\n",
       "      <th>LOGICAL_FACTOR_2</th>\n",
       "      <th>VOIVODESHIP</th>\n",
       "      <th>COMPANY_SIZE</th>\n",
       "      <th>COMPANY_TYPE</th>\n",
       "      <th>GMINA</th>\n",
       "      <th>POWIAT</th>\n",
       "      <th>PKD_GROUP</th>\n",
       "    </tr>\n",
       "  </thead>\n",
       "  <tbody>\n",
       "    <tr>\n",
       "      <th>0</th>\n",
       "      <td>False</td>\n",
       "      <td>2106287.0</td>\n",
       "      <td>261078.0</td>\n",
       "      <td>M</td>\n",
       "      <td>187.0</td>\n",
       "      <td>18</td>\n",
       "      <td>85,996</td>\n",
       "      <td>0.0</td>\n",
       "      <td>0.0</td>\n",
       "      <td>0.0</td>\n",
       "      <td>4</td>\n",
       "      <td>False</td>\n",
       "      <td>False</td>\n",
       "      <td>NaN</td>\n",
       "      <td>NaN</td>\n",
       "      <td>NaN</td>\n",
       "      <td>NaN</td>\n",
       "      <td>NaN</td>\n",
       "      <td>na</td>\n",
       "    </tr>\n",
       "    <tr>\n",
       "      <th>1</th>\n",
       "      <td>False</td>\n",
       "      <td>2106303.0</td>\n",
       "      <td>261078.0</td>\n",
       "      <td>M</td>\n",
       "      <td>136.0</td>\n",
       "      <td>18</td>\n",
       "      <td>82,416</td>\n",
       "      <td>0.0</td>\n",
       "      <td>0.0</td>\n",
       "      <td>0.0</td>\n",
       "      <td>4</td>\n",
       "      <td>False</td>\n",
       "      <td>False</td>\n",
       "      <td>NaN</td>\n",
       "      <td>NaN</td>\n",
       "      <td>NaN</td>\n",
       "      <td>NaN</td>\n",
       "      <td>NaN</td>\n",
       "      <td>na</td>\n",
       "    </tr>\n",
       "    <tr>\n",
       "      <th>2</th>\n",
       "      <td>False</td>\n",
       "      <td>2106300.0</td>\n",
       "      <td>261078.0</td>\n",
       "      <td>K</td>\n",
       "      <td>136.0</td>\n",
       "      <td>18</td>\n",
       "      <td>67,636</td>\n",
       "      <td>0.0</td>\n",
       "      <td>0.0</td>\n",
       "      <td>0.0</td>\n",
       "      <td>4</td>\n",
       "      <td>False</td>\n",
       "      <td>False</td>\n",
       "      <td>NaN</td>\n",
       "      <td>NaN</td>\n",
       "      <td>NaN</td>\n",
       "      <td>NaN</td>\n",
       "      <td>NaN</td>\n",
       "      <td>na</td>\n",
       "    </tr>\n",
       "    <tr>\n",
       "      <th>3</th>\n",
       "      <td>False</td>\n",
       "      <td>2106320.0</td>\n",
       "      <td>261078.0</td>\n",
       "      <td>M</td>\n",
       "      <td>136.0</td>\n",
       "      <td>18</td>\n",
       "      <td>91,384</td>\n",
       "      <td>0.0</td>\n",
       "      <td>0.0</td>\n",
       "      <td>0.0</td>\n",
       "      <td>4</td>\n",
       "      <td>False</td>\n",
       "      <td>False</td>\n",
       "      <td>NaN</td>\n",
       "      <td>NaN</td>\n",
       "      <td>NaN</td>\n",
       "      <td>NaN</td>\n",
       "      <td>NaN</td>\n",
       "      <td>na</td>\n",
       "    </tr>\n",
       "    <tr>\n",
       "      <th>4</th>\n",
       "      <td>False</td>\n",
       "      <td>2106332.0</td>\n",
       "      <td>261078.0</td>\n",
       "      <td>M</td>\n",
       "      <td>136.0</td>\n",
       "      <td>18</td>\n",
       "      <td>67,636</td>\n",
       "      <td>0.0</td>\n",
       "      <td>0.0</td>\n",
       "      <td>1.0</td>\n",
       "      <td>4</td>\n",
       "      <td>False</td>\n",
       "      <td>False</td>\n",
       "      <td>NaN</td>\n",
       "      <td>NaN</td>\n",
       "      <td>NaN</td>\n",
       "      <td>NaN</td>\n",
       "      <td>NaN</td>\n",
       "      <td>na</td>\n",
       "    </tr>\n",
       "    <tr>\n",
       "      <th>...</th>\n",
       "      <td>...</td>\n",
       "      <td>...</td>\n",
       "      <td>...</td>\n",
       "      <td>...</td>\n",
       "      <td>...</td>\n",
       "      <td>...</td>\n",
       "      <td>...</td>\n",
       "      <td>...</td>\n",
       "      <td>...</td>\n",
       "      <td>...</td>\n",
       "      <td>...</td>\n",
       "      <td>...</td>\n",
       "      <td>...</td>\n",
       "      <td>...</td>\n",
       "      <td>...</td>\n",
       "      <td>...</td>\n",
       "      <td>...</td>\n",
       "      <td>...</td>\n",
       "      <td>...</td>\n",
       "    </tr>\n",
       "    <tr>\n",
       "      <th>1616305</th>\n",
       "      <td>True</td>\n",
       "      <td>2037435.0</td>\n",
       "      <td>89.0</td>\n",
       "      <td>M</td>\n",
       "      <td>187.0</td>\n",
       "      <td>8</td>\n",
       "      <td>63,724</td>\n",
       "      <td>0.0</td>\n",
       "      <td>0.0</td>\n",
       "      <td>0.0</td>\n",
       "      <td>3</td>\n",
       "      <td>False</td>\n",
       "      <td>False</td>\n",
       "      <td>DOLNOŚLĄSKIE</td>\n",
       "      <td>B</td>\n",
       "      <td>23.0</td>\n",
       "      <td>164</td>\n",
       "      <td>68</td>\n",
       "      <td>87</td>\n",
       "    </tr>\n",
       "    <tr>\n",
       "      <th>1616306</th>\n",
       "      <td>True</td>\n",
       "      <td>2037434.0</td>\n",
       "      <td>89.0</td>\n",
       "      <td>M</td>\n",
       "      <td>187.0</td>\n",
       "      <td>8</td>\n",
       "      <td>45,324</td>\n",
       "      <td>0.0</td>\n",
       "      <td>0.0</td>\n",
       "      <td>0.0</td>\n",
       "      <td>3</td>\n",
       "      <td>False</td>\n",
       "      <td>False</td>\n",
       "      <td>DOLNOŚLĄSKIE</td>\n",
       "      <td>B</td>\n",
       "      <td>23.0</td>\n",
       "      <td>164</td>\n",
       "      <td>68</td>\n",
       "      <td>87</td>\n",
       "    </tr>\n",
       "    <tr>\n",
       "      <th>1616307</th>\n",
       "      <td>True</td>\n",
       "      <td>2037433.0</td>\n",
       "      <td>89.0</td>\n",
       "      <td>M</td>\n",
       "      <td>187.0</td>\n",
       "      <td>8</td>\n",
       "      <td>86,752</td>\n",
       "      <td>0.0</td>\n",
       "      <td>0.0</td>\n",
       "      <td>0.0</td>\n",
       "      <td>3</td>\n",
       "      <td>False</td>\n",
       "      <td>False</td>\n",
       "      <td>DOLNOŚLĄSKIE</td>\n",
       "      <td>B</td>\n",
       "      <td>23.0</td>\n",
       "      <td>164</td>\n",
       "      <td>68</td>\n",
       "      <td>87</td>\n",
       "    </tr>\n",
       "    <tr>\n",
       "      <th>1616308</th>\n",
       "      <td>True</td>\n",
       "      <td>2037427.0</td>\n",
       "      <td>89.0</td>\n",
       "      <td>M</td>\n",
       "      <td>187.0</td>\n",
       "      <td>8</td>\n",
       "      <td>49,228</td>\n",
       "      <td>0.0</td>\n",
       "      <td>0.0</td>\n",
       "      <td>0.0</td>\n",
       "      <td>3</td>\n",
       "      <td>False</td>\n",
       "      <td>False</td>\n",
       "      <td>DOLNOŚLĄSKIE</td>\n",
       "      <td>B</td>\n",
       "      <td>23.0</td>\n",
       "      <td>164</td>\n",
       "      <td>68</td>\n",
       "      <td>87</td>\n",
       "    </tr>\n",
       "    <tr>\n",
       "      <th>1616309</th>\n",
       "      <td>True</td>\n",
       "      <td>2037421.0</td>\n",
       "      <td>89.0</td>\n",
       "      <td>M</td>\n",
       "      <td>187.0</td>\n",
       "      <td>8</td>\n",
       "      <td>78,296</td>\n",
       "      <td>0.0</td>\n",
       "      <td>0.0</td>\n",
       "      <td>0.0</td>\n",
       "      <td>3</td>\n",
       "      <td>False</td>\n",
       "      <td>False</td>\n",
       "      <td>DOLNOŚLĄSKIE</td>\n",
       "      <td>B</td>\n",
       "      <td>23.0</td>\n",
       "      <td>164</td>\n",
       "      <td>68</td>\n",
       "      <td>87</td>\n",
       "    </tr>\n",
       "  </tbody>\n",
       "</table>\n",
       "<p>1616310 rows × 19 columns</p>\n",
       "</div>"
      ],
      "text/plain": [
       "         IS_SUSPENDED  MEMBER_ID   EMPL_ID SEX  NATIONALITY  PPK_BANK     AGE  \\\n",
       "0               False  2106287.0  261078.0   M        187.0        18  85,996   \n",
       "1               False  2106303.0  261078.0   M        136.0        18  82,416   \n",
       "2               False  2106300.0  261078.0   K        136.0        18  67,636   \n",
       "3               False  2106320.0  261078.0   M        136.0        18  91,384   \n",
       "4               False  2106332.0  261078.0   M        136.0        18  67,636   \n",
       "...               ...        ...       ...  ..          ...       ...     ...   \n",
       "1616305          True  2037435.0      89.0   M        187.0         8  63,724   \n",
       "1616306          True  2037434.0      89.0   M        187.0         8  45,324   \n",
       "1616307          True  2037433.0      89.0   M        187.0         8  86,752   \n",
       "1616308          True  2037427.0      89.0   M        187.0         8  49,228   \n",
       "1616309          True  2037421.0      89.0   M        187.0         8  78,296   \n",
       "\n",
       "         HAS_AE  HAS_AW  HAS_IP  PPK_STAGE  LOGICAL_FACTOR_1  \\\n",
       "0           0.0     0.0     0.0          4             False   \n",
       "1           0.0     0.0     0.0          4             False   \n",
       "2           0.0     0.0     0.0          4             False   \n",
       "3           0.0     0.0     0.0          4             False   \n",
       "4           0.0     0.0     1.0          4             False   \n",
       "...         ...     ...     ...        ...               ...   \n",
       "1616305     0.0     0.0     0.0          3             False   \n",
       "1616306     0.0     0.0     0.0          3             False   \n",
       "1616307     0.0     0.0     0.0          3             False   \n",
       "1616308     0.0     0.0     0.0          3             False   \n",
       "1616309     0.0     0.0     0.0          3             False   \n",
       "\n",
       "         LOGICAL_FACTOR_2   VOIVODESHIP COMPANY_SIZE  COMPANY_TYPE GMINA  \\\n",
       "0                   False           NaN          NaN           NaN   NaN   \n",
       "1                   False           NaN          NaN           NaN   NaN   \n",
       "2                   False           NaN          NaN           NaN   NaN   \n",
       "3                   False           NaN          NaN           NaN   NaN   \n",
       "4                   False           NaN          NaN           NaN   NaN   \n",
       "...                   ...           ...          ...           ...   ...   \n",
       "1616305             False  DOLNOŚLĄSKIE            B          23.0   164   \n",
       "1616306             False  DOLNOŚLĄSKIE            B          23.0   164   \n",
       "1616307             False  DOLNOŚLĄSKIE            B          23.0   164   \n",
       "1616308             False  DOLNOŚLĄSKIE            B          23.0   164   \n",
       "1616309             False  DOLNOŚLĄSKIE            B          23.0   164   \n",
       "\n",
       "        POWIAT PKD_GROUP  \n",
       "0          NaN        na  \n",
       "1          NaN        na  \n",
       "2          NaN        na  \n",
       "3          NaN        na  \n",
       "4          NaN        na  \n",
       "...        ...       ...  \n",
       "1616305     68        87  \n",
       "1616306     68        87  \n",
       "1616307     68        87  \n",
       "1616308     68        87  \n",
       "1616309     68        87  \n",
       "\n",
       "[1616310 rows x 19 columns]"
      ]
     },
     "execution_count": 9,
     "metadata": {},
     "output_type": "execute_result"
    }
   ],
   "source": [
    "df_inner = pd.merge(uczestnicy, pracodawcy, left_on='EMPL_ID', right_on='ID', how='inner')\n",
    "\n",
    "df_inner['IS_SUSPENDED'] = df_inner['IS_SUSPENDED'] .astype(bool)\n",
    "df_inner['PPK_BANK'] = df_inner['PPK_BANK'] .astype(int)\n",
    "\n",
    "\n",
    "df_inner.drop('ID', axis = 1, inplace = True) ## the same PKD  code for the same employer\n",
    "df_inner.drop('RESIGNED', axis = 1, inplace = True) ## the same PKD  code for the same employer\n",
    "df_inner"
   ]
  },
  {
   "cell_type": "code",
   "execution_count": null,
   "metadata": {},
   "outputs": [],
   "source": []
  },
  {
   "cell_type": "markdown",
   "metadata": {},
   "source": [
    "## SEX"
   ]
  },
  {
   "cell_type": "code",
   "execution_count": 42,
   "metadata": {},
   "outputs": [
    {
     "data": {
      "text/plain": [
       "SEX  IS_SUSPENDED\n",
       "K    False           627579\n",
       "     True            148055\n",
       "M    False           708774\n",
       "     True            131902\n",
       "dtype: int64"
      ]
     },
     "execution_count": 42,
     "metadata": {},
     "output_type": "execute_result"
    }
   ],
   "source": [
    "df_inner[['SEX','IS_SUSPENDED' ]].value_counts(sort = False)  \n",
    "## kobiety zostają w PPK w 80.9%, mężcyżni zostają w 84.3 %"
   ]
  },
  {
   "cell_type": "code",
   "execution_count": 37,
   "metadata": {},
   "outputs": [
    {
     "data": {
      "text/plain": [
       "0.8091174445679277"
      ]
     },
     "execution_count": 37,
     "metadata": {},
     "output_type": "execute_result"
    }
   ],
   "source": [
    "627579/(627579+148055)"
   ]
  },
  {
   "cell_type": "code",
   "execution_count": 38,
   "metadata": {},
   "outputs": [
    {
     "data": {
      "text/plain": [
       "0.8431000766050178"
      ]
     },
     "execution_count": 38,
     "metadata": {},
     "output_type": "execute_result"
    }
   ],
   "source": [
    "708774/(708774+131902)"
   ]
  },
  {
   "cell_type": "code",
   "execution_count": 44,
   "metadata": {},
   "outputs": [
    {
     "data": {
      "text/plain": [
       "COMPANY_SIZE  IS_SUSPENDED\n",
       "A             False            21437\n",
       "              True              1664\n",
       "B             False            57249\n",
       "              True              8161\n",
       "C             False            82272\n",
       "              True             12027\n",
       "D             False           132902\n",
       "              True             16841\n",
       "E             False           172633\n",
       "              True             29266\n",
       "F             False           181786\n",
       "              True             43054\n",
       "G             False           170063\n",
       "              True             42938\n",
       "H             False           496574\n",
       "              True            123812\n",
       "dtype: int64"
      ]
     },
     "execution_count": 44,
     "metadata": {},
     "output_type": "execute_result"
    }
   ],
   "source": [
    "df_inner[['COMPANY_SIZE','IS_SUSPENDED' ]].value_counts(sort = False)  \n",
    "## kobiety zostają w PPK w 80.9%, mężcyżni zostają w 84.3 %"
   ]
  },
  {
   "cell_type": "code",
   "execution_count": 47,
   "metadata": {},
   "outputs": [
    {
     "data": {
      "text/html": [
       "<div>\n",
       "<style scoped>\n",
       "    .dataframe tbody tr th:only-of-type {\n",
       "        vertical-align: middle;\n",
       "    }\n",
       "\n",
       "    .dataframe tbody tr th {\n",
       "        vertical-align: top;\n",
       "    }\n",
       "\n",
       "    .dataframe thead th {\n",
       "        text-align: right;\n",
       "    }\n",
       "</style>\n",
       "<table border=\"1\" class=\"dataframe\">\n",
       "  <thead>\n",
       "    <tr style=\"text-align: right;\">\n",
       "      <th></th>\n",
       "      <th>counts</th>\n",
       "      <th>%</th>\n",
       "    </tr>\n",
       "  </thead>\n",
       "  <tbody>\n",
       "    <tr>\n",
       "      <th>H</th>\n",
       "      <td>620386.0</td>\n",
       "      <td>NaN</td>\n",
       "    </tr>\n",
       "    <tr>\n",
       "      <th>F</th>\n",
       "      <td>224840.0</td>\n",
       "      <td>NaN</td>\n",
       "    </tr>\n",
       "    <tr>\n",
       "      <th>G</th>\n",
       "      <td>213001.0</td>\n",
       "      <td>NaN</td>\n",
       "    </tr>\n",
       "    <tr>\n",
       "      <th>E</th>\n",
       "      <td>201899.0</td>\n",
       "      <td>NaN</td>\n",
       "    </tr>\n",
       "    <tr>\n",
       "      <th>D</th>\n",
       "      <td>149743.0</td>\n",
       "      <td>NaN</td>\n",
       "    </tr>\n",
       "    <tr>\n",
       "      <th>C</th>\n",
       "      <td>94299.0</td>\n",
       "      <td>NaN</td>\n",
       "    </tr>\n",
       "    <tr>\n",
       "      <th>B</th>\n",
       "      <td>65410.0</td>\n",
       "      <td>NaN</td>\n",
       "    </tr>\n",
       "    <tr>\n",
       "      <th>NaN</th>\n",
       "      <td>23631.0</td>\n",
       "      <td>NaN</td>\n",
       "    </tr>\n",
       "    <tr>\n",
       "      <th>A</th>\n",
       "      <td>23101.0</td>\n",
       "      <td>NaN</td>\n",
       "    </tr>\n",
       "    <tr>\n",
       "      <th>False</th>\n",
       "      <td>NaN</td>\n",
       "      <td>0.826793</td>\n",
       "    </tr>\n",
       "    <tr>\n",
       "      <th>True</th>\n",
       "      <td>NaN</td>\n",
       "      <td>0.173207</td>\n",
       "    </tr>\n",
       "  </tbody>\n",
       "</table>\n",
       "</div>"
      ],
      "text/plain": [
       "         counts         %\n",
       "H      620386.0       NaN\n",
       "F      224840.0       NaN\n",
       "G      213001.0       NaN\n",
       "E      201899.0       NaN\n",
       "D      149743.0       NaN\n",
       "C       94299.0       NaN\n",
       "B       65410.0       NaN\n",
       "NaN     23631.0       NaN\n",
       "A       23101.0       NaN\n",
       "False       NaN  0.826793\n",
       "True        NaN  0.173207"
      ]
     },
     "execution_count": 47,
     "metadata": {},
     "output_type": "execute_result"
    }
   ],
   "source": [
    "c = df_inner.COMPANY_SIZE.value_counts(dropna=False)\n",
    "p = df_inner.IS_SUSPENDED.value_counts(dropna=False, normalize=True)\n",
    "pd.concat([c,p], axis=1, keys=['counts', '%'])"
   ]
  },
  {
   "cell_type": "code",
   "execution_count": null,
   "metadata": {},
   "outputs": [],
   "source": []
  },
  {
   "cell_type": "code",
   "execution_count": null,
   "metadata": {},
   "outputs": [],
   "source": []
  },
  {
   "cell_type": "code",
   "execution_count": null,
   "metadata": {},
   "outputs": [],
   "source": []
  },
  {
   "cell_type": "markdown",
   "metadata": {},
   "source": [
    "## Plots!"
   ]
  },
  {
   "cell_type": "code",
   "execution_count": 12,
   "metadata": {},
   "outputs": [],
   "source": [
    "import seaborn as sns\n",
    "import matplotlib.pyplot as plt\n",
    "sns.set_theme(style=\"ticks\", color_codes=True)\n",
    "palette = \"light:b\"\n",
    "palette = \"Blues\""
   ]
  },
  {
   "cell_type": "code",
   "execution_count": 13,
   "metadata": {},
   "outputs": [
    {
     "data": {
      "text/html": [
       "<div>\n",
       "<style scoped>\n",
       "    .dataframe tbody tr th:only-of-type {\n",
       "        vertical-align: middle;\n",
       "    }\n",
       "\n",
       "    .dataframe tbody tr th {\n",
       "        vertical-align: top;\n",
       "    }\n",
       "\n",
       "    .dataframe thead th {\n",
       "        text-align: right;\n",
       "    }\n",
       "</style>\n",
       "<table border=\"1\" class=\"dataframe\">\n",
       "  <thead>\n",
       "    <tr style=\"text-align: right;\">\n",
       "      <th></th>\n",
       "      <th>HAS_AE</th>\n",
       "      <th>HAS_AW</th>\n",
       "      <th>HAS_IP</th>\n",
       "      <th>IS_SUSPENDED</th>\n",
       "    </tr>\n",
       "  </thead>\n",
       "  <tbody>\n",
       "    <tr>\n",
       "      <th>0</th>\n",
       "      <td>0.0</td>\n",
       "      <td>0.0</td>\n",
       "      <td>0.0</td>\n",
       "      <td>False</td>\n",
       "    </tr>\n",
       "    <tr>\n",
       "      <th>1</th>\n",
       "      <td>0.0</td>\n",
       "      <td>0.0</td>\n",
       "      <td>0.0</td>\n",
       "      <td>False</td>\n",
       "    </tr>\n",
       "    <tr>\n",
       "      <th>2</th>\n",
       "      <td>0.0</td>\n",
       "      <td>0.0</td>\n",
       "      <td>0.0</td>\n",
       "      <td>False</td>\n",
       "    </tr>\n",
       "    <tr>\n",
       "      <th>3</th>\n",
       "      <td>0.0</td>\n",
       "      <td>0.0</td>\n",
       "      <td>0.0</td>\n",
       "      <td>False</td>\n",
       "    </tr>\n",
       "    <tr>\n",
       "      <th>4</th>\n",
       "      <td>0.0</td>\n",
       "      <td>0.0</td>\n",
       "      <td>1.0</td>\n",
       "      <td>False</td>\n",
       "    </tr>\n",
       "  </tbody>\n",
       "</table>\n",
       "</div>"
      ],
      "text/plain": [
       "   HAS_AE  HAS_AW  HAS_IP  IS_SUSPENDED\n",
       "0     0.0     0.0     0.0         False\n",
       "1     0.0     0.0     0.0         False\n",
       "2     0.0     0.0     0.0         False\n",
       "3     0.0     0.0     0.0         False\n",
       "4     0.0     0.0     1.0         False"
      ]
     },
     "execution_count": 13,
     "metadata": {},
     "output_type": "execute_result"
    }
   ],
   "source": [
    "test.head()"
   ]
  },
  {
   "cell_type": "code",
   "execution_count": 14,
   "metadata": {},
   "outputs": [],
   "source": []
  },
  {
   "cell_type": "code",
   "execution_count": 15,
   "metadata": {},
   "outputs": [],
   "source": [
    "test =df_inner[['HAS_AE', 'HAS_AW', 'HAS_IP', 'IS_SUSPENDED']].copy()\n",
    "test = test.astype(bool)\n",
    "test =df_inner[['HAS_AE', 'HAS_AW', 'HAS_IP', 'IS_SUSPENDED']].copy()\n",
    "\n",
    "test_not_suspended = test[test['IS_SUSPENDED']==False]\n",
    "test_suspended = test[test['IS_SUSPENDED']==True]\n",
    "\n",
    "HAS_AE = test_not_suspended[test_not_suspended['HAS_AE']==True]['HAS_AE'].count()\n",
    "HAS_NOT_AE = test_not_suspended[test_not_suspended['HAS_AE']==False]['HAS_AE'].count()\n",
    "\n",
    "HAS_AW = test_not_suspended[test_not_suspended['HAS_AW']==True]['HAS_AW'].count()\n",
    "HAS_NOT_AW = test_not_suspended[test_not_suspended['HAS_AW']==False]['HAS_AW'].count()\n",
    "\n",
    "HAS_IP = test_not_suspended[test_not_suspended['HAS_IP']==True]['HAS_IP'].count()\n",
    "HAS_NOT_IP = test_not_suspended[test_not_suspended['HAS_IP']==False]['HAS_IP'].count()\n",
    "\n",
    "IS_SUSPENDED_FALSE = [HAS_AE, HAS_NOT_AE, HAS_AW, HAS_NOT_AW, HAS_IP, HAS_NOT_IP]\n",
    "HAS_AE = test_suspended[test_suspended['HAS_AE']==True]['HAS_AE'].count()\n",
    "HAS_NOT_AE = test_suspended[test_suspended['HAS_AE']==False]['HAS_AE'].count()\n",
    "\n",
    "HAS_AW = test_suspended[test_suspended['HAS_AW']==True]['HAS_AW'].count()\n",
    "HAS_NOT_AW = test_suspended[test_suspended['HAS_AW']==False]['HAS_AW'].count()\n",
    "\n",
    "HAS_IP = test_suspended[test_suspended['HAS_IP']==True]['HAS_IP'].count()\n",
    "HAS_NOT_IP = test_suspended[test_suspended['HAS_IP']==False]['HAS_IP'].count()\n",
    "\n",
    "IS_SUSPENDED_TRUE = [HAS_AE, HAS_NOT_AE, HAS_AW, HAS_NOT_AW, HAS_IP, HAS_NOT_IP]"
   ]
  },
  {
   "cell_type": "code",
   "execution_count": 28,
   "metadata": {},
   "outputs": [
    {
     "data": {
      "text/plain": [
       "HAS_IP  IS_SUSPENDED\n",
       "0.0     False           562371\n",
       "        True            226401\n",
       "1.0     False           773982\n",
       "        True             53556\n",
       "dtype: int64"
      ]
     },
     "execution_count": 28,
     "metadata": {},
     "output_type": "execute_result"
    }
   ],
   "source": [
    "test[['HAS_IP','IS_SUSPENDED' ]].value_counts(sort = False)  \n",
    "## Ci, co dostają wpłatę powitalną raczej nie rezygnują: \n",
    "## dostał wpłatę powitalną, na 93% nie zrezygnuje, jeżeli nie dostał wpłaty powitalnej, na 71% nie zrezygnuje"
   ]
  },
  {
   "cell_type": "code",
   "execution_count": 27,
   "metadata": {},
   "outputs": [
    {
     "data": {
      "text/plain": [
       "HAS_AE  IS_SUSPENDED\n",
       "0.0     False           1308690\n",
       "        True             277641\n",
       "1.0     False             27663\n",
       "        True               2316\n",
       "dtype: int64"
      ]
     },
     "execution_count": 27,
     "metadata": {},
     "output_type": "execute_result"
    }
   ],
   "source": [
    "test[['HAS_AE','IS_SUSPENDED' ]].value_counts(sort = False)\n",
    "## dodatkową wpłata pracodawcy\n",
    "## wpłata od pracodawcy -> na 92% nie zrezygnuje, brak wpłaty od pracodawcy -> na 82 % zrezygnuje"
   ]
  },
  {
   "cell_type": "code",
   "execution_count": 31,
   "metadata": {},
   "outputs": [
    {
     "data": {
      "text/plain": [
       "HAS_AW  IS_SUSPENDED\n",
       "0.0     False           1321455\n",
       "        True             279498\n",
       "1.0     False             14898\n",
       "        True                459\n",
       "dtype: int64"
      ]
     },
     "execution_count": 31,
     "metadata": {},
     "output_type": "execute_result"
    }
   ],
   "source": [
    "test[['HAS_AW','IS_SUSPENDED' ]].value_counts(sort = False)\n",
    "## wpłaca własną dodatkową wpłata pracownika\n",
    "## jeżeli ma własna wpłata pracownika, to nie zrezygnuje 97%,  jeżeli nie ma własna wpłata pracownika, to nie zrezygnuje na 82.5%"
   ]
  },
  {
   "cell_type": "code",
   "execution_count": 25,
   "metadata": {},
   "outputs": [
    {
     "data": {
      "text/plain": [
       "IS_SUSPENDED  HAS_AW\n",
       "False         0.0       1321455\n",
       "              1.0         14898\n",
       "True          0.0        279498\n",
       "              1.0           459\n",
       "dtype: int64"
      ]
     },
     "execution_count": 25,
     "metadata": {},
     "output_type": "execute_result"
    }
   ],
   "source": [
    "test[['IS_SUSPENDED', 'HAS_AW' ]].value_counts(sort = False)"
   ]
  },
  {
   "cell_type": "code",
   "execution_count": 24,
   "metadata": {},
   "outputs": [
    {
     "data": {
      "text/plain": [
       "IS_SUSPENDED  HAS_IP\n",
       "False         0.0       562371\n",
       "              1.0       773982\n",
       "True          0.0       226401\n",
       "              1.0        53556\n",
       "dtype: int64"
      ]
     },
     "execution_count": 24,
     "metadata": {},
     "output_type": "execute_result"
    }
   ],
   "source": [
    "test[['IS_SUSPENDED', 'HAS_IP' ]].value_counts(sort = False)"
   ]
  },
  {
   "cell_type": "code",
   "execution_count": 17,
   "metadata": {},
   "outputs": [
    {
     "ename": "NameError",
     "evalue": "name 'STOP' is not defined",
     "output_type": "error",
     "traceback": [
      "\u001b[1;31m---------------------------------------------------------------------------\u001b[0m",
      "\u001b[1;31mNameError\u001b[0m                                 Traceback (most recent call last)",
      "\u001b[1;32m<ipython-input-17-ee4decdca3b8>\u001b[0m in \u001b[0;36m<module>\u001b[1;34m\u001b[0m\n\u001b[1;32m----> 1\u001b[1;33m \u001b[0mSTOP\u001b[0m\u001b[1;33m\u001b[0m\u001b[1;33m\u001b[0m\u001b[0m\n\u001b[0m",
      "\u001b[1;31mNameError\u001b[0m: name 'STOP' is not defined"
     ]
    }
   ],
   "source": [
    "STOP"
   ]
  },
  {
   "cell_type": "code",
   "execution_count": null,
   "metadata": {},
   "outputs": [],
   "source": [
    "labels = ['HAS AE', 'HAS NOT AE', 'HAS AW', 'HAS_NOT AW', 'HAS IP', 'HAS NOT IP']\n",
    "\n",
    "x = np.arange(len(labels))  # the label locations\n",
    "width = 0.35  # the width of the bars\n",
    "\n",
    "fig, ax = plt.subplots(figsize=(12, 6))\n",
    "\n",
    "rects1 = ax.bar(x - width/2, IS_SUSPENDED_FALSE, width, label='IS SUSPENDED: FALSE', color='lightblue')\n",
    "rects2 = ax.bar(x + width/2, IS_SUSPENDED_TRUE, width, label='IS SUSPENDED: TRUE', color ='steelblue')\n",
    "\n",
    "# Add some text for labels, title and custom x-axis tick labels, etc.\n",
    "ax.set_ylabel('count')\n",
    "ax.set_xticks(x)\n",
    "ax.set_xticklabels(labels)\n",
    "ax.legend()\n",
    "\n",
    "fig.tight_layout()\n",
    "\n",
    "plt.show()\n"
   ]
  },
  {
   "cell_type": "code",
   "execution_count": null,
   "metadata": {},
   "outputs": [],
   "source": [
    "g = sns.catplot(x=\"SEX\", kind=\"count\", hue=\"IS_SUSPENDED\",  palette=palette,  data=df_inner)\n",
    "g.fig.set_figwidth(8)\n",
    "g.fig.set_figheight(6)\n",
    "g.set_xticklabels(rotation=60)"
   ]
  },
  {
   "cell_type": "code",
   "execution_count": null,
   "metadata": {},
   "outputs": [],
   "source": [
    "g = sns.catplot(x=\"PPK_BANK\", kind=\"count\", hue=\"IS_SUSPENDED\",  palette=palette,  data=df_inner)\n",
    "g.fig.set_figwidth(12)\n",
    "g.fig.set_figheight(6)\n",
    "g.set_xticklabels(rotation=60)"
   ]
  },
  {
   "cell_type": "code",
   "execution_count": null,
   "metadata": {},
   "outputs": [],
   "source": [
    "df_inner.head()"
   ]
  },
  {
   "cell_type": "code",
   "execution_count": null,
   "metadata": {},
   "outputs": [],
   "source": [
    "g = sns.catplot(x=\"PPK_STAGE\", kind=\"count\", hue=\"IS_SUSPENDED\",  palette=palette,  data=df_inner)\n",
    "g.fig.set_figwidth(12)\n",
    "g.fig.set_figheight(6)\n",
    "g.set_xticklabels(rotation=60)"
   ]
  },
  {
   "cell_type": "code",
   "execution_count": null,
   "metadata": {},
   "outputs": [],
   "source": [
    "g = sns.catplot(x=\"COMPANY_SIZE\", kind=\"count\", hue=\"IS_SUSPENDED\",  palette=palette,  data=df_inner.sort_values(by=['COMPANY_SIZE'],ascending=True))\n",
    "g.fig.set_figwidth(12)\n",
    "g.fig.set_figheight(6)\n",
    "g.set_xticklabels(rotation=60)"
   ]
  },
  {
   "cell_type": "code",
   "execution_count": null,
   "metadata": {},
   "outputs": [],
   "source": [
    "tmp=df_inner.copy()\n",
    "tmp['COMPANY_TYPE'] = tmp['COMPANY_TYPE'].astype(str)\n",
    "tmp = tmp.assign(COMPANY_TYPE=tmp['COMPANY_TYPE'].str[:-2])\n",
    "tmp = tmp[tmp.COMPANY_TYPE != 'n']\n",
    "tmp['COMPANY_TYPE'] = tmp['COMPANY_TYPE'].astype(int)\n",
    "\n",
    "\n",
    "g = sns.catplot(x=\"COMPANY_TYPE\", kind=\"count\", hue=\"IS_SUSPENDED\",  palette=palette,  data=tmp)\n",
    "g.fig.set_figwidth(14)\n",
    "g.fig.set_figheight(6)\n",
    "g.set_xticklabels(rotation=60)"
   ]
  },
  {
   "cell_type": "code",
   "execution_count": null,
   "metadata": {},
   "outputs": [],
   "source": [
    "g = sns.catplot(x=\"VOIVODESHIP\", kind=\"count\", hue=\"IS_SUSPENDED\",  palette=palette,  data=df_inner.sort_values(by=['VOIVODESHIP'],ascending=True))\n",
    "g.fig.set_figwidth(14)\n",
    "g.fig.set_figheight(6)\n",
    "g.set_xticklabels(rotation=60)"
   ]
  },
  {
   "cell_type": "code",
   "execution_count": null,
   "metadata": {},
   "outputs": [],
   "source": []
  }
 ],
 "metadata": {
  "kernelspec": {
   "display_name": "Python 3",
   "language": "python",
   "name": "python3"
  },
  "language_info": {
   "codemirror_mode": {
    "name": "ipython",
    "version": 3
   },
   "file_extension": ".py",
   "mimetype": "text/x-python",
   "name": "python",
   "nbconvert_exporter": "python",
   "pygments_lexer": "ipython3",
   "version": "3.8.5"
  }
 },
 "nbformat": 4,
 "nbformat_minor": 4
}
