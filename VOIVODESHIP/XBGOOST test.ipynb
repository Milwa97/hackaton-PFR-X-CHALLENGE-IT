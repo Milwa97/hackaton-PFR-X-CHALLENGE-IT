{
 "cells": [
  {
   "cell_type": "code",
   "execution_count": 1,
   "metadata": {},
   "outputs": [],
   "source": [
    "import pandas as pd\n",
    "import numpy as np\n",
    "import warnings\n",
    "warnings.filterwarnings('ignore')\n",
    "\n",
    "import xgboost as xgb\n",
    "import pickle\n",
    "xgb.set_config(verbosity=1) #turn down info\n",
    "\n",
    "from sklearn import tree\n",
    "from sklearn.metrics import accuracy_score\n",
    "\n",
    "import matplotlib.pyplot as plt\n",
    "\n",
    "\n",
    "from sklearn.metrics import recall_score\n",
    "from sklearn.metrics import precision_score\n",
    "\n",
    "from sklearn.metrics import confusion_matrix\n",
    "import itertools"
   ]
  },
  {
   "cell_type": "markdown",
   "metadata": {},
   "source": [
    "## training set, validation set, testing set"
   ]
  },
  {
   "cell_type": "code",
   "execution_count": 2,
   "metadata": {},
   "outputs": [],
   "source": [
    "train_set = pd.read_csv('train_set_V.csv')[:1000000]\n",
    "valid_set = pd.read_csv('val_set_V.csv')[:10000]\n",
    "test_set = pd.read_csv('test_set_V.csv')[:10000]\n"
   ]
  },
  {
   "cell_type": "code",
   "execution_count": 3,
   "metadata": {},
   "outputs": [
    {
     "data": {
      "text/html": [
       "<div>\n",
       "<style scoped>\n",
       "    .dataframe tbody tr th:only-of-type {\n",
       "        vertical-align: middle;\n",
       "    }\n",
       "\n",
       "    .dataframe tbody tr th {\n",
       "        vertical-align: top;\n",
       "    }\n",
       "\n",
       "    .dataframe thead th {\n",
       "        text-align: right;\n",
       "    }\n",
       "</style>\n",
       "<table border=\"1\" class=\"dataframe\">\n",
       "  <thead>\n",
       "    <tr style=\"text-align: right;\">\n",
       "      <th></th>\n",
       "      <th>AGE</th>\n",
       "      <th>HAS_AE</th>\n",
       "      <th>HAS_AW</th>\n",
       "      <th>HAS_IP</th>\n",
       "      <th>LOGICAL_FACTOR_1</th>\n",
       "      <th>LOGICAL_FACTOR_2</th>\n",
       "      <th>SEX_K</th>\n",
       "      <th>SEX_M</th>\n",
       "      <th>SEX_N</th>\n",
       "      <th>NATIONALITY_0</th>\n",
       "      <th>...</th>\n",
       "      <th>PKD_GROUP_90</th>\n",
       "      <th>PKD_GROUP_91</th>\n",
       "      <th>PKD_GROUP_93</th>\n",
       "      <th>PKD_GROUP_95</th>\n",
       "      <th>PKD_GROUP_96</th>\n",
       "      <th>PKD_GROUP_97</th>\n",
       "      <th>PKD_GROUP_98</th>\n",
       "      <th>PKD_GROUP_99</th>\n",
       "      <th>PKD_GROUP_na</th>\n",
       "      <th>TARGET</th>\n",
       "    </tr>\n",
       "  </thead>\n",
       "  <tbody>\n",
       "    <tr>\n",
       "      <th>0</th>\n",
       "      <td>0.121117</td>\n",
       "      <td>0</td>\n",
       "      <td>0</td>\n",
       "      <td>0</td>\n",
       "      <td>1</td>\n",
       "      <td>0</td>\n",
       "      <td>1</td>\n",
       "      <td>0</td>\n",
       "      <td>0</td>\n",
       "      <td>0</td>\n",
       "      <td>...</td>\n",
       "      <td>0</td>\n",
       "      <td>0</td>\n",
       "      <td>0</td>\n",
       "      <td>0</td>\n",
       "      <td>0</td>\n",
       "      <td>0</td>\n",
       "      <td>0</td>\n",
       "      <td>0</td>\n",
       "      <td>1</td>\n",
       "      <td>0</td>\n",
       "    </tr>\n",
       "    <tr>\n",
       "      <th>1</th>\n",
       "      <td>-0.816647</td>\n",
       "      <td>0</td>\n",
       "      <td>0</td>\n",
       "      <td>1</td>\n",
       "      <td>0</td>\n",
       "      <td>0</td>\n",
       "      <td>0</td>\n",
       "      <td>1</td>\n",
       "      <td>0</td>\n",
       "      <td>0</td>\n",
       "      <td>...</td>\n",
       "      <td>0</td>\n",
       "      <td>0</td>\n",
       "      <td>0</td>\n",
       "      <td>0</td>\n",
       "      <td>0</td>\n",
       "      <td>0</td>\n",
       "      <td>0</td>\n",
       "      <td>0</td>\n",
       "      <td>0</td>\n",
       "      <td>0</td>\n",
       "    </tr>\n",
       "    <tr>\n",
       "      <th>2</th>\n",
       "      <td>0.714663</td>\n",
       "      <td>0</td>\n",
       "      <td>0</td>\n",
       "      <td>1</td>\n",
       "      <td>0</td>\n",
       "      <td>0</td>\n",
       "      <td>1</td>\n",
       "      <td>0</td>\n",
       "      <td>0</td>\n",
       "      <td>0</td>\n",
       "      <td>...</td>\n",
       "      <td>0</td>\n",
       "      <td>0</td>\n",
       "      <td>0</td>\n",
       "      <td>0</td>\n",
       "      <td>0</td>\n",
       "      <td>0</td>\n",
       "      <td>0</td>\n",
       "      <td>0</td>\n",
       "      <td>0</td>\n",
       "      <td>0</td>\n",
       "    </tr>\n",
       "    <tr>\n",
       "      <th>3</th>\n",
       "      <td>-0.201953</td>\n",
       "      <td>0</td>\n",
       "      <td>0</td>\n",
       "      <td>1</td>\n",
       "      <td>0</td>\n",
       "      <td>0</td>\n",
       "      <td>0</td>\n",
       "      <td>0</td>\n",
       "      <td>1</td>\n",
       "      <td>0</td>\n",
       "      <td>...</td>\n",
       "      <td>0</td>\n",
       "      <td>0</td>\n",
       "      <td>0</td>\n",
       "      <td>0</td>\n",
       "      <td>0</td>\n",
       "      <td>0</td>\n",
       "      <td>0</td>\n",
       "      <td>0</td>\n",
       "      <td>0</td>\n",
       "      <td>0</td>\n",
       "    </tr>\n",
       "    <tr>\n",
       "      <th>4</th>\n",
       "      <td>1.150431</td>\n",
       "      <td>0</td>\n",
       "      <td>0</td>\n",
       "      <td>1</td>\n",
       "      <td>0</td>\n",
       "      <td>0</td>\n",
       "      <td>1</td>\n",
       "      <td>0</td>\n",
       "      <td>0</td>\n",
       "      <td>0</td>\n",
       "      <td>...</td>\n",
       "      <td>0</td>\n",
       "      <td>0</td>\n",
       "      <td>0</td>\n",
       "      <td>0</td>\n",
       "      <td>0</td>\n",
       "      <td>0</td>\n",
       "      <td>0</td>\n",
       "      <td>0</td>\n",
       "      <td>0</td>\n",
       "      <td>0</td>\n",
       "    </tr>\n",
       "  </tbody>\n",
       "</table>\n",
       "<p>5 rows × 203 columns</p>\n",
       "</div>"
      ],
      "text/plain": [
       "        AGE  HAS_AE  HAS_AW  HAS_IP  LOGICAL_FACTOR_1  LOGICAL_FACTOR_2  \\\n",
       "0  0.121117       0       0       0                 1                 0   \n",
       "1 -0.816647       0       0       1                 0                 0   \n",
       "2  0.714663       0       0       1                 0                 0   \n",
       "3 -0.201953       0       0       1                 0                 0   \n",
       "4  1.150431       0       0       1                 0                 0   \n",
       "\n",
       "   SEX_K  SEX_M  SEX_N  NATIONALITY_0  ...  PKD_GROUP_90  PKD_GROUP_91  \\\n",
       "0      1      0      0              0  ...             0             0   \n",
       "1      0      1      0              0  ...             0             0   \n",
       "2      1      0      0              0  ...             0             0   \n",
       "3      0      0      1              0  ...             0             0   \n",
       "4      1      0      0              0  ...             0             0   \n",
       "\n",
       "   PKD_GROUP_93  PKD_GROUP_95  PKD_GROUP_96  PKD_GROUP_97  PKD_GROUP_98  \\\n",
       "0             0             0             0             0             0   \n",
       "1             0             0             0             0             0   \n",
       "2             0             0             0             0             0   \n",
       "3             0             0             0             0             0   \n",
       "4             0             0             0             0             0   \n",
       "\n",
       "   PKD_GROUP_99  PKD_GROUP_na  TARGET  \n",
       "0             0             1       0  \n",
       "1             0             0       0  \n",
       "2             0             0       0  \n",
       "3             0             0       0  \n",
       "4             0             0       0  \n",
       "\n",
       "[5 rows x 203 columns]"
      ]
     },
     "execution_count": 3,
     "metadata": {},
     "output_type": "execute_result"
    }
   ],
   "source": [
    "train_set.head()"
   ]
  },
  {
   "cell_type": "code",
   "execution_count": 4,
   "metadata": {},
   "outputs": [],
   "source": [
    "y_train = np.array(train_set['TARGET'])\n",
    "x_train = np.array(train_set.drop(['TARGET'], axis=1))\n",
    "\n",
    "y_val = np.array(valid_set['TARGET'])\n",
    "x_val = np.array(valid_set.drop(['TARGET'], axis=1))\n",
    "\n",
    "y_test = np.array(test_set['TARGET'])\n",
    "x_test = np.array(test_set.drop(['TARGET'], axis=1))"
   ]
  },
  {
   "cell_type": "code",
   "execution_count": 5,
   "metadata": {},
   "outputs": [
    {
     "name": "stdout",
     "output_type": "stream",
     "text": [
      "(1000000, 202) (1000000,)\n",
      "(10000, 202) (10000,)\n",
      "(10000, 202) (10000,)\n"
     ]
    }
   ],
   "source": [
    "print(x_train.shape, y_train.shape)\n",
    "print(x_val.shape, y_val.shape)\n",
    "print(x_test.shape, y_test.shape)"
   ]
  },
  {
   "cell_type": "markdown",
   "metadata": {},
   "source": [
    "# XGBClassifier using xgboost library"
   ]
  },
  {
   "cell_type": "code",
   "execution_count": 6,
   "metadata": {},
   "outputs": [
    {
     "name": "stdout",
     "output_type": "stream",
     "text": [
      "[14:00:44] WARNING: C:/Users/Administrator/workspace/xgboost-win64_release_1.4.0/src/learner.cc:1095: Starting in XGBoost 1.3.0, the default evaluation metric used with the objective 'binary:logistic' was changed from 'error' to 'logloss'. Explicitly set eval_metric if you'd like to restore the old behavior.\n"
     ]
    },
    {
     "data": {
      "text/plain": [
       "XGBClassifier(base_score=0.5, booster='gbtree', colsample_bylevel=1,\n",
       "              colsample_bynode=1, colsample_bytree=1, gamma=0, gpu_id=-1,\n",
       "              importance_type='gain', interaction_constraints='',\n",
       "              learning_rate=0.300000012, max_delta_step=0, max_depth=6,\n",
       "              min_child_weight=1, missing=nan, monotone_constraints='()',\n",
       "              n_estimators=100, n_jobs=12, num_parallel_tree=1, random_state=0,\n",
       "              reg_alpha=0, reg_lambda=1, scale_pos_weight=1, subsample=1,\n",
       "              tree_method='exact', validate_parameters=1, verbosity=None)"
      ]
     },
     "execution_count": 6,
     "metadata": {},
     "output_type": "execute_result"
    }
   ],
   "source": [
    "n_estimators =60\n",
    "max_depth = 40\n",
    "\n",
    "classifier = xgb.XGBClassifier()\n",
    "classifier.fit(x_train, y_train)"
   ]
  },
  {
   "cell_type": "code",
   "execution_count": 7,
   "metadata": {},
   "outputs": [
    {
     "name": "stdout",
     "output_type": "stream",
     "text": [
      "\n",
      "Accuracy on testing set: 86.7300 %\n"
     ]
    }
   ],
   "source": [
    "output = classifier.predict(x_test)\n",
    "target = y_test\n",
    "accuracy = sum(output == target)/ len(target)\n",
    "print(\"\\nAccuracy on testing set: {:.4f} %\".format(accuracy*100))"
   ]
  },
  {
   "cell_type": "code",
   "execution_count": 8,
   "metadata": {},
   "outputs": [
    {
     "name": "stdout",
     "output_type": "stream",
     "text": [
      "recall 0.42569124423963134\n",
      "precision 0.6913002806361085\n"
     ]
    },
    {
     "data": {
      "image/png": "[encoded data removed]",
      "text/plain": [
       "<Figure size 432x288 with 2 Axes>"
      ]
     },
     "metadata": {
      "needs_background": "light"
     },
     "output_type": "display_data"
    }
   ],
   "source": [
    "classes = [0,1]\n",
    "y_true = y_test\n",
    "y_pred = classifier.predict(x_test)\n",
    "cm = confusion_matrix(y_true, y_pred, normalize ='true')\n",
    "\n",
    "plt.imshow(cm, interpolation='nearest', cmap='Blues')\n",
    "plt.title(\"Confusion Matrix for XGBClassifier\")\n",
    "plt.colorbar()\n",
    "tick_marks = np.arange(len(classes))\n",
    "plt.xticks(tick_marks, classes, rotation=45)\n",
    "plt.yticks(tick_marks, classes)\n",
    "\n",
    "for i, j in itertools.product(range(cm.shape[0]), range(cm.shape[1])):\n",
    "        plt.text(j, i, round(cm[i, j],3), horizontalalignment=\"center\", color=\"white\" if cm[i, j] > 0.5 else \"black\")\n",
    "\n",
    "plt.tight_layout()\n",
    "plt.ylabel('True label')\n",
    "plt.xlabel('Predicted label')\n",
    "\n",
    "print(\"recall\", recall_score(y_true, y_pred))\n",
    "print(\"precision\", precision_score(y_true, y_pred))"
   ]
  },
  {
   "cell_type": "markdown",
   "metadata": {},
   "source": [
    "## new - BAD"
   ]
  },
  {
   "cell_type": "code",
   "execution_count": 9,
   "metadata": {},
   "outputs": [
    {
     "name": "stdout",
     "output_type": "stream",
     "text": [
      "[14:02:47] WARNING: C:/Users/Administrator/workspace/xgboost-win64_release_1.4.0/src/learner.cc:1095: Starting in XGBoost 1.3.0, the default evaluation metric used with the objective 'binary:logistic' was changed from 'error' to 'logloss'. Explicitly set eval_metric if you'd like to restore the old behavior.\n"
     ]
    },
    {
     "data": {
      "text/plain": [
       "XGBClassifier(base_score=0.5, booster='gbtree', colsample_bylevel=1,\n",
       "              colsample_bynode=1, colsample_bytree=1, gamma=0, gpu_id=-1,\n",
       "              importance_type='gain', interaction_constraints='',\n",
       "              learning_rate=0.3, max_delta_step=0, max_depth=50,\n",
       "              min_child_weight=0.1, missing=nan, monotone_constraints='()',\n",
       "              n_estimators=60, n_jobs=12, num_parallel_tree=1, random_state=0,\n",
       "              reg_alpha=0, reg_lambda=1, scale_pos_weight=1, subsample=1,\n",
       "              tree_method='exact', validate_parameters=1, verbosity=None)"
      ]
     },
     "execution_count": 9,
     "metadata": {},
     "output_type": "execute_result"
    }
   ],
   "source": [
    "n_estimators =60\n",
    "max_depth = 50\n",
    "\n",
    "classifier = xgb.XGBClassifier(n_estimators=n_estimators, \n",
    "                               max_depth=max_depth, \n",
    "                               min_child_weight =0.1,\n",
    "                               learning_rate=0.3)\n",
    "\n",
    "\n",
    "\n",
    "classifier.fit(x_train, y_train)"
   ]
  },
  {
   "cell_type": "code",
   "execution_count": 10,
   "metadata": {},
   "outputs": [
    {
     "name": "stdout",
     "output_type": "stream",
     "text": [
      "\n",
      "Accuracy on testing set: 84.4300 %\n"
     ]
    }
   ],
   "source": [
    "output = classifier.predict(x_test)\n",
    "target = y_test\n",
    "accuracy = sum(output == target)/ len(target)\n",
    "print(\"\\nAccuracy on testing set: {:.4f} %\".format(accuracy*100))"
   ]
  },
  {
   "cell_type": "code",
   "execution_count": 11,
   "metadata": {},
   "outputs": [
    {
     "name": "stdout",
     "output_type": "stream",
     "text": [
      "recall 0.44873271889400923\n",
      "precision 0.564902102973169\n"
     ]
    },
    {
     "data": {
      "image/png": "[encoded data removed]",
      "text/plain": [
       "<Figure size 432x288 with 2 Axes>"
      ]
     },
     "metadata": {
      "needs_background": "light"
     },
     "output_type": "display_data"
    }
   ],
   "source": [
    "classes = [0,1]\n",
    "y_true = y_test\n",
    "y_pred = classifier.predict(x_test)\n",
    "cm = confusion_matrix(y_true, y_pred, normalize ='true')\n",
    "\n",
    "plt.imshow(cm, interpolation='nearest', cmap='Blues')\n",
    "plt.title(\"Confusion Matrix for XGBClassifier\")\n",
    "plt.colorbar()\n",
    "tick_marks = np.arange(len(classes))\n",
    "plt.xticks(tick_marks, classes, rotation=45)\n",
    "plt.yticks(tick_marks, classes)\n",
    "\n",
    "for i, j in itertools.product(range(cm.shape[0]), range(cm.shape[1])):\n",
    "        plt.text(j, i, round(cm[i, j],3), horizontalalignment=\"center\", color=\"white\" if cm[i, j] > 0.5 else \"black\")\n",
    "\n",
    "plt.tight_layout()\n",
    "plt.ylabel('True label')\n",
    "plt.xlabel('Predicted label')\n",
    "\n",
    "print(\"recall\", recall_score(y_true, y_pred))\n",
    "print(\"precision\", precision_score(y_true, y_pred))"
   ]
  },
  {
   "cell_type": "code",
   "execution_count": null,
   "metadata": {},
   "outputs": [],
   "source": []
  },
  {
   "cell_type": "markdown",
   "metadata": {},
   "source": [
    "## Feature importance"
   ]
  },
  {
   "cell_type": "code",
   "execution_count": 12,
   "metadata": {},
   "outputs": [
    {
     "data": {
      "text/html": [
       "<div>\n",
       "<style scoped>\n",
       "    .dataframe tbody tr th:only-of-type {\n",
       "        vertical-align: middle;\n",
       "    }\n",
       "\n",
       "    .dataframe tbody tr th {\n",
       "        vertical-align: top;\n",
       "    }\n",
       "\n",
       "    .dataframe thead th {\n",
       "        text-align: right;\n",
       "    }\n",
       "</style>\n",
       "<table border=\"1\" class=\"dataframe\">\n",
       "  <thead>\n",
       "    <tr style=\"text-align: right;\">\n",
       "      <th></th>\n",
       "      <th>score</th>\n",
       "      <th>name_features</th>\n",
       "    </tr>\n",
       "  </thead>\n",
       "  <tbody>\n",
       "    <tr>\n",
       "      <th>f0</th>\n",
       "      <td>1291511</td>\n",
       "      <td>RATIO_IS_SUSPENDED_0.0</td>\n",
       "    </tr>\n",
       "    <tr>\n",
       "      <th>f6</th>\n",
       "      <td>51859</td>\n",
       "      <td>HAS_IP</td>\n",
       "    </tr>\n",
       "    <tr>\n",
       "      <th>f54</th>\n",
       "      <td>27415</td>\n",
       "      <td>RATIO_IS_SUSPENDED_1.0</td>\n",
       "    </tr>\n",
       "    <tr>\n",
       "      <th>f50</th>\n",
       "      <td>26566</td>\n",
       "      <td>AGE</td>\n",
       "    </tr>\n",
       "    <tr>\n",
       "      <th>f75</th>\n",
       "      <td>22834</td>\n",
       "      <td>PPK_BANK_6</td>\n",
       "    </tr>\n",
       "    <tr>\n",
       "      <th>f45</th>\n",
       "      <td>21996</td>\n",
       "      <td>PPK_STAGE_1</td>\n",
       "    </tr>\n",
       "    <tr>\n",
       "      <th>f68</th>\n",
       "      <td>20233</td>\n",
       "      <td>PPK_BANK_15</td>\n",
       "    </tr>\n",
       "    <tr>\n",
       "      <th>f71</th>\n",
       "      <td>19837</td>\n",
       "      <td>COMPANY_TYPE_18.0</td>\n",
       "    </tr>\n",
       "    <tr>\n",
       "      <th>f66</th>\n",
       "      <td>18512</td>\n",
       "      <td>PPK_STAGE_2</td>\n",
       "    </tr>\n",
       "    <tr>\n",
       "      <th>f7</th>\n",
       "      <td>17859</td>\n",
       "      <td>COMPANY_SIZE_B</td>\n",
       "    </tr>\n",
       "    <tr>\n",
       "      <th>f77</th>\n",
       "      <td>17539</td>\n",
       "      <td>COMPANY_SIZE_G</td>\n",
       "    </tr>\n",
       "    <tr>\n",
       "      <th>f85</th>\n",
       "      <td>16721</td>\n",
       "      <td>PKD_GROUP_65</td>\n",
       "    </tr>\n",
       "    <tr>\n",
       "      <th>f59</th>\n",
       "      <td>16609</td>\n",
       "      <td>PKD_GROUP_na</td>\n",
       "    </tr>\n",
       "    <tr>\n",
       "      <th>f91</th>\n",
       "      <td>16249</td>\n",
       "      <td>PPK_BANK_1</td>\n",
       "    </tr>\n",
       "    <tr>\n",
       "      <th>f25</th>\n",
       "      <td>15458</td>\n",
       "      <td>VOIVODESHIP_PODLASKIE</td>\n",
       "    </tr>\n",
       "  </tbody>\n",
       "</table>\n",
       "</div>"
      ],
      "text/plain": [
       "       score           name_features\n",
       "f0   1291511  RATIO_IS_SUSPENDED_0.0\n",
       "f6     51859                  HAS_IP\n",
       "f54    27415  RATIO_IS_SUSPENDED_1.0\n",
       "f50    26566                     AGE\n",
       "f75    22834              PPK_BANK_6\n",
       "f45    21996             PPK_STAGE_1\n",
       "f68    20233             PPK_BANK_15\n",
       "f71    19837       COMPANY_TYPE_18.0\n",
       "f66    18512             PPK_STAGE_2\n",
       "f7     17859          COMPANY_SIZE_B\n",
       "f77    17539          COMPANY_SIZE_G\n",
       "f85    16721            PKD_GROUP_65\n",
       "f59    16609            PKD_GROUP_na\n",
       "f91    16249              PPK_BANK_1\n",
       "f25    15458   VOIVODESHIP_PODLASKIE"
      ]
     },
     "execution_count": 12,
     "metadata": {},
     "output_type": "execute_result"
    }
   ],
   "source": [
    "feature_important = classifier.get_booster().get_score(importance_type='weight')\n",
    "keys = list(feature_important.keys())\n",
    "values = list(feature_important.values())\n",
    "\n",
    "features = list(train_set.columns)\n",
    "name_features = []\n",
    "for k in keys:\n",
    "    index = int(k[1:])\n",
    "    name_features.append(features[index])\n",
    "\n",
    "\n",
    "df_feature_important = pd.DataFrame(data=values, index=keys, columns=[\"score\"]).sort_values(by = \"score\", ascending=False)\n",
    "df_feature_important['name_features']=name_features\n",
    "df_feature_important.head(15)"
   ]
  },
  {
   "cell_type": "code",
   "execution_count": 13,
   "metadata": {},
   "outputs": [
    {
     "data": {
      "text/plain": [
       "<AxesSubplot:title={'center':'Feature importance'}, xlabel='F score', ylabel='Features'>"
      ]
     },
     "execution_count": 13,
     "metadata": {},
     "output_type": "execute_result"
    },
    {
     "data": {
      "image/png": "[encoded data removed]",
      "text/plain": [
       "<Figure size 432x288 with 1 Axes>"
      ]
     },
     "metadata": {
      "needs_background": "light"
     },
     "output_type": "display_data"
    }
   ],
   "source": [
    "xgb.plot_importance(classifier, importance_type='weight',max_num_features=10 )"
   ]
  },
  {
   "cell_type": "code",
   "execution_count": 14,
   "metadata": {},
   "outputs": [
    {
     "data": {
      "text/html": [
       "<div>\n",
       "<style scoped>\n",
       "    .dataframe tbody tr th:only-of-type {\n",
       "        vertical-align: middle;\n",
       "    }\n",
       "\n",
       "    .dataframe tbody tr th {\n",
       "        vertical-align: top;\n",
       "    }\n",
       "\n",
       "    .dataframe thead th {\n",
       "        text-align: right;\n",
       "    }\n",
       "</style>\n",
       "<table border=\"1\" class=\"dataframe\">\n",
       "  <thead>\n",
       "    <tr style=\"text-align: right;\">\n",
       "      <th></th>\n",
       "      <th>score</th>\n",
       "      <th>name_features</th>\n",
       "    </tr>\n",
       "  </thead>\n",
       "  <tbody>\n",
       "    <tr>\n",
       "      <th>f3</th>\n",
       "      <td>25.874635</td>\n",
       "      <td>RATIO_IS_SUSPENDED_0.0</td>\n",
       "    </tr>\n",
       "    <tr>\n",
       "      <th>f63</th>\n",
       "      <td>22.956860</td>\n",
       "      <td>HAS_IP</td>\n",
       "    </tr>\n",
       "    <tr>\n",
       "      <th>f113</th>\n",
       "      <td>17.876407</td>\n",
       "      <td>RATIO_IS_SUSPENDED_1.0</td>\n",
       "    </tr>\n",
       "    <tr>\n",
       "      <th>f114</th>\n",
       "      <td>10.826160</td>\n",
       "      <td>AGE</td>\n",
       "    </tr>\n",
       "    <tr>\n",
       "      <th>f60</th>\n",
       "      <td>8.968623</td>\n",
       "      <td>PPK_BANK_6</td>\n",
       "    </tr>\n",
       "    <tr>\n",
       "      <th>f158</th>\n",
       "      <td>3.258997</td>\n",
       "      <td>PPK_STAGE_1</td>\n",
       "    </tr>\n",
       "    <tr>\n",
       "      <th>f61</th>\n",
       "      <td>1.702856</td>\n",
       "      <td>PPK_BANK_15</td>\n",
       "    </tr>\n",
       "    <tr>\n",
       "      <th>f154</th>\n",
       "      <td>1.636685</td>\n",
       "      <td>COMPANY_TYPE_18.0</td>\n",
       "    </tr>\n",
       "    <tr>\n",
       "      <th>f190</th>\n",
       "      <td>1.624873</td>\n",
       "      <td>PPK_STAGE_2</td>\n",
       "    </tr>\n",
       "    <tr>\n",
       "      <th>f112</th>\n",
       "      <td>1.485348</td>\n",
       "      <td>COMPANY_SIZE_B</td>\n",
       "    </tr>\n",
       "    <tr>\n",
       "      <th>f192</th>\n",
       "      <td>1.371867</td>\n",
       "      <td>COMPANY_SIZE_G</td>\n",
       "    </tr>\n",
       "    <tr>\n",
       "      <th>f159</th>\n",
       "      <td>1.278924</td>\n",
       "      <td>PKD_GROUP_65</td>\n",
       "    </tr>\n",
       "    <tr>\n",
       "      <th>f199</th>\n",
       "      <td>0.982640</td>\n",
       "      <td>PKD_GROUP_na</td>\n",
       "    </tr>\n",
       "    <tr>\n",
       "      <th>f87</th>\n",
       "      <td>0.959321</td>\n",
       "      <td>PPK_BANK_1</td>\n",
       "    </tr>\n",
       "    <tr>\n",
       "      <th>f152</th>\n",
       "      <td>0.954258</td>\n",
       "      <td>VOIVODESHIP_PODLASKIE</td>\n",
       "    </tr>\n",
       "  </tbody>\n",
       "</table>\n",
       "</div>"
      ],
      "text/plain": [
       "          score           name_features\n",
       "f3    25.874635  RATIO_IS_SUSPENDED_0.0\n",
       "f63   22.956860                  HAS_IP\n",
       "f113  17.876407  RATIO_IS_SUSPENDED_1.0\n",
       "f114  10.826160                     AGE\n",
       "f60    8.968623              PPK_BANK_6\n",
       "f158   3.258997             PPK_STAGE_1\n",
       "f61    1.702856             PPK_BANK_15\n",
       "f154   1.636685       COMPANY_TYPE_18.0\n",
       "f190   1.624873             PPK_STAGE_2\n",
       "f112   1.485348          COMPANY_SIZE_B\n",
       "f192   1.371867          COMPANY_SIZE_G\n",
       "f159   1.278924            PKD_GROUP_65\n",
       "f199   0.982640            PKD_GROUP_na\n",
       "f87    0.959321              PPK_BANK_1\n",
       "f152   0.954258   VOIVODESHIP_PODLASKIE"
      ]
     },
     "execution_count": 14,
     "metadata": {},
     "output_type": "execute_result"
    }
   ],
   "source": [
    "feature_important = classifier.get_booster().get_score(importance_type='gain')\n",
    "keys = list(feature_important.keys())\n",
    "values = list(feature_important.values())\n",
    "\n",
    "features = list(train_set.columns)\n",
    "name_features = []\n",
    "for k in keys:\n",
    "    index = int(k[1:])\n",
    "    name_features.append(features[index])\n",
    "\n",
    "\n",
    "df_feature_important = pd.DataFrame(data=values, index=keys, columns=[\"score\"]).sort_values(by = \"score\", ascending=False)\n",
    "df_feature_important['name_features']=name_features\n",
    "df_feature_important.head(15)"
   ]
  },
  {
   "cell_type": "code",
   "execution_count": 15,
   "metadata": {},
   "outputs": [
    {
     "data": {
      "text/plain": [
       "<AxesSubplot:title={'center':'Feature importance'}, xlabel='F score', ylabel='Features'>"
      ]
     },
     "execution_count": 15,
     "metadata": {},
     "output_type": "execute_result"
    },
    {
     "data": {
      "image/png": "[encoded data removed]",
      "text/plain": [
       "<Figure size 432x288 with 1 Axes>"
      ]
     },
     "metadata": {
      "needs_background": "light"
     },
     "output_type": "display_data"
    }
   ],
   "source": [
    "xgb.plot_importance(classifier, importance_type='gain',max_num_features=10 )"
   ]
  },
  {
   "cell_type": "code",
   "execution_count": null,
   "metadata": {},
   "outputs": [],
   "source": []
  },
  {
   "cell_type": "code",
   "execution_count": 16,
   "metadata": {},
   "outputs": [
    {
     "ename": "NameError",
     "evalue": "name 'STOP' is not defined",
     "output_type": "error",
     "traceback": [
      "\u001b[1;31m---------------------------------------------------------------------------\u001b[0m",
      "\u001b[1;31mNameError\u001b[0m                                 Traceback (most recent call last)",
      "\u001b[1;32m<ipython-input-16-ee4decdca3b8>\u001b[0m in \u001b[0;36m<module>\u001b[1;34m\u001b[0m\n\u001b[1;32m----> 1\u001b[1;33m \u001b[0mSTOP\u001b[0m\u001b[1;33m\u001b[0m\u001b[1;33m\u001b[0m\u001b[0m\n\u001b[0m",
      "\u001b[1;31mNameError\u001b[0m: name 'STOP' is not defined"
     ]
    }
   ],
   "source": [
    "STOP"
   ]
  },
  {
   "cell_type": "markdown",
   "metadata": {},
   "source": [
    "## Save model"
   ]
  },
  {
   "cell_type": "code",
   "execution_count": null,
   "metadata": {},
   "outputs": [],
   "source": [
    "file_name = \"xgb_model.pkl\"\n",
    "\n",
    "# save\n",
    "pickle.dump(classifier, open(file_name, \"wb\"))\n",
    "\n",
    "# load\n",
    "xgb_model_loaded = pickle.load(open(file_name, \"rb\"))"
   ]
  },
  {
   "cell_type": "markdown",
   "metadata": {},
   "source": [
    "# FINAL EVALUATION OF THE MODEL: XGBoost"
   ]
  },
  {
   "cell_type": "code",
   "execution_count": null,
   "metadata": {},
   "outputs": [],
   "source": [
    "xgb_model_loaded = pickle.load(open(file_name, \"rb\"))\n",
    "\n",
    "output = xgb_model_loaded.predict(x_train)\n",
    "target = y_train\n",
    "accuracy = sum(output == target)/ len(target)\n",
    "print(\"\\nAccuracy on testing set: {:.4f} %\".format(accuracy*100))\n",
    "\n",
    "output = xgb_model_loaded.predict(x_val)\n",
    "target = y_val\n",
    "accuracy = sum(output == target)/ len(target)\n",
    "print(\"\\nAccuracy on testing set: {:.4f} %\".format(accuracy*100))\n",
    "\n",
    "output = xgb_model_loaded.predict(x_test)\n",
    "target = y_test\n",
    "accuracy = sum(output == target)/ len(target)\n",
    "print(\"\\nAccuracy on testing set: {:.4f} %\".format(accuracy*100))"
   ]
  },
  {
   "cell_type": "code",
   "execution_count": null,
   "metadata": {},
   "outputs": [],
   "source": []
  }
 ],
 "metadata": {
  "kernelspec": {
   "display_name": "Python 3",
   "language": "python",
   "name": "python3"
  },
  "language_info": {
   "codemirror_mode": {
    "name": "ipython",
    "version": 3
   },
   "file_extension": ".py",
   "mimetype": "text/x-python",
   "name": "python",
   "nbconvert_exporter": "python",
   "pygments_lexer": "ipython3",
   "version": "3.8.5"
  }
 },
 "nbformat": 4,
 "nbformat_minor": 4
}
