{
 "cells": [
  {
   "cell_type": "code",
   "execution_count": 1,
   "metadata": {},
   "outputs": [],
   "source": [
    "import pandas as pd\n",
    "import numpy as np\n",
    "import warnings\n",
    "warnings.filterwarnings('ignore')\n",
    "\n",
    "from sklearn.linear_model import LinearRegression as Lin_Reg\n",
    "from sklearn.linear_model import Ridge as Ridge_Reg\n",
    "from sklearn.linear_model import Lasso as Lasso_Reg\n",
    "from sklearn.linear_model import LogisticRegression\n",
    "\n",
    "from sklearn.model_selection import KFold\n",
    "from sklearn.model_selection import cross_val_score\n",
    "\n",
    "\n",
    "# To plot pretty figures\n",
    "import matplotlib\n",
    "import matplotlib.pyplot as plt\n",
    "import matplotlib.cm as cmx\n",
    "import matplotlib.colors as colors\n",
    "from matplotlib import cm\n",
    "from matplotlib.colors import ListedColormap, LinearSegmentedColormap\n",
    "\n",
    "plt.rcParams['axes.labelsize'] = 14\n",
    "plt.rcParams['xtick.labelsize'] = 12\n",
    "plt.rcParams['ytick.labelsize'] = 12\n",
    "plt.rcParams['figure.figsize']=12,10"
   ]
  },
  {
   "cell_type": "markdown",
   "metadata": {},
   "source": [
    "## training set, validation set, testing set"
   ]
  },
  {
   "cell_type": "code",
   "execution_count": 2,
   "metadata": {},
   "outputs": [],
   "source": [
    "train_set = pd.read_csv('train_set_V.csv')\n",
    "valid_set = pd.read_csv('val_set_V.csv')\n",
    "test_set = pd.read_csv('test_set_V.csv')\n"
   ]
  },
  {
   "cell_type": "code",
   "execution_count": 3,
   "metadata": {},
   "outputs": [
    {
     "data": {
      "text/html": [
       "<div>\n",
       "<style scoped>\n",
       "    .dataframe tbody tr th:only-of-type {\n",
       "        vertical-align: middle;\n",
       "    }\n",
       "\n",
       "    .dataframe tbody tr th {\n",
       "        vertical-align: top;\n",
       "    }\n",
       "\n",
       "    .dataframe thead th {\n",
       "        text-align: right;\n",
       "    }\n",
       "</style>\n",
       "<table border=\"1\" class=\"dataframe\">\n",
       "  <thead>\n",
       "    <tr style=\"text-align: right;\">\n",
       "      <th></th>\n",
       "      <th>AGE</th>\n",
       "      <th>HAS_AE</th>\n",
       "      <th>HAS_AW</th>\n",
       "      <th>HAS_IP</th>\n",
       "      <th>LOGICAL_FACTOR_1</th>\n",
       "      <th>LOGICAL_FACTOR_2</th>\n",
       "      <th>SEX_K</th>\n",
       "      <th>SEX_M</th>\n",
       "      <th>SEX_N</th>\n",
       "      <th>NATIONALITY_0</th>\n",
       "      <th>...</th>\n",
       "      <th>PKD_GROUP_90</th>\n",
       "      <th>PKD_GROUP_91</th>\n",
       "      <th>PKD_GROUP_93</th>\n",
       "      <th>PKD_GROUP_95</th>\n",
       "      <th>PKD_GROUP_96</th>\n",
       "      <th>PKD_GROUP_97</th>\n",
       "      <th>PKD_GROUP_98</th>\n",
       "      <th>PKD_GROUP_99</th>\n",
       "      <th>PKD_GROUP_na</th>\n",
       "      <th>TARGET</th>\n",
       "    </tr>\n",
       "  </thead>\n",
       "  <tbody>\n",
       "    <tr>\n",
       "      <th>0</th>\n",
       "      <td>0.121117</td>\n",
       "      <td>0</td>\n",
       "      <td>0</td>\n",
       "      <td>0</td>\n",
       "      <td>1</td>\n",
       "      <td>0</td>\n",
       "      <td>1</td>\n",
       "      <td>0</td>\n",
       "      <td>0</td>\n",
       "      <td>0</td>\n",
       "      <td>...</td>\n",
       "      <td>0</td>\n",
       "      <td>0</td>\n",
       "      <td>0</td>\n",
       "      <td>0</td>\n",
       "      <td>0</td>\n",
       "      <td>0</td>\n",
       "      <td>0</td>\n",
       "      <td>0</td>\n",
       "      <td>1</td>\n",
       "      <td>0</td>\n",
       "    </tr>\n",
       "    <tr>\n",
       "      <th>1</th>\n",
       "      <td>-0.816647</td>\n",
       "      <td>0</td>\n",
       "      <td>0</td>\n",
       "      <td>1</td>\n",
       "      <td>0</td>\n",
       "      <td>0</td>\n",
       "      <td>0</td>\n",
       "      <td>1</td>\n",
       "      <td>0</td>\n",
       "      <td>0</td>\n",
       "      <td>...</td>\n",
       "      <td>0</td>\n",
       "      <td>0</td>\n",
       "      <td>0</td>\n",
       "      <td>0</td>\n",
       "      <td>0</td>\n",
       "      <td>0</td>\n",
       "      <td>0</td>\n",
       "      <td>0</td>\n",
       "      <td>0</td>\n",
       "      <td>0</td>\n",
       "    </tr>\n",
       "    <tr>\n",
       "      <th>2</th>\n",
       "      <td>0.714663</td>\n",
       "      <td>0</td>\n",
       "      <td>0</td>\n",
       "      <td>1</td>\n",
       "      <td>0</td>\n",
       "      <td>0</td>\n",
       "      <td>1</td>\n",
       "      <td>0</td>\n",
       "      <td>0</td>\n",
       "      <td>0</td>\n",
       "      <td>...</td>\n",
       "      <td>0</td>\n",
       "      <td>0</td>\n",
       "      <td>0</td>\n",
       "      <td>0</td>\n",
       "      <td>0</td>\n",
       "      <td>0</td>\n",
       "      <td>0</td>\n",
       "      <td>0</td>\n",
       "      <td>0</td>\n",
       "      <td>0</td>\n",
       "    </tr>\n",
       "    <tr>\n",
       "      <th>3</th>\n",
       "      <td>-0.201953</td>\n",
       "      <td>0</td>\n",
       "      <td>0</td>\n",
       "      <td>1</td>\n",
       "      <td>0</td>\n",
       "      <td>0</td>\n",
       "      <td>0</td>\n",
       "      <td>0</td>\n",
       "      <td>1</td>\n",
       "      <td>0</td>\n",
       "      <td>...</td>\n",
       "      <td>0</td>\n",
       "      <td>0</td>\n",
       "      <td>0</td>\n",
       "      <td>0</td>\n",
       "      <td>0</td>\n",
       "      <td>0</td>\n",
       "      <td>0</td>\n",
       "      <td>0</td>\n",
       "      <td>0</td>\n",
       "      <td>0</td>\n",
       "    </tr>\n",
       "    <tr>\n",
       "      <th>4</th>\n",
       "      <td>1.150431</td>\n",
       "      <td>0</td>\n",
       "      <td>0</td>\n",
       "      <td>1</td>\n",
       "      <td>0</td>\n",
       "      <td>0</td>\n",
       "      <td>1</td>\n",
       "      <td>0</td>\n",
       "      <td>0</td>\n",
       "      <td>0</td>\n",
       "      <td>...</td>\n",
       "      <td>0</td>\n",
       "      <td>0</td>\n",
       "      <td>0</td>\n",
       "      <td>0</td>\n",
       "      <td>0</td>\n",
       "      <td>0</td>\n",
       "      <td>0</td>\n",
       "      <td>0</td>\n",
       "      <td>0</td>\n",
       "      <td>0</td>\n",
       "    </tr>\n",
       "  </tbody>\n",
       "</table>\n",
       "<p>5 rows × 203 columns</p>\n",
       "</div>"
      ],
      "text/plain": [
       "        AGE  HAS_AE  HAS_AW  HAS_IP  LOGICAL_FACTOR_1  LOGICAL_FACTOR_2  \\\n",
       "0  0.121117       0       0       0                 1                 0   \n",
       "1 -0.816647       0       0       1                 0                 0   \n",
       "2  0.714663       0       0       1                 0                 0   \n",
       "3 -0.201953       0       0       1                 0                 0   \n",
       "4  1.150431       0       0       1                 0                 0   \n",
       "\n",
       "   SEX_K  SEX_M  SEX_N  NATIONALITY_0  ...  PKD_GROUP_90  PKD_GROUP_91  \\\n",
       "0      1      0      0              0  ...             0             0   \n",
       "1      0      1      0              0  ...             0             0   \n",
       "2      1      0      0              0  ...             0             0   \n",
       "3      0      0      1              0  ...             0             0   \n",
       "4      1      0      0              0  ...             0             0   \n",
       "\n",
       "   PKD_GROUP_93  PKD_GROUP_95  PKD_GROUP_96  PKD_GROUP_97  PKD_GROUP_98  \\\n",
       "0             0             0             0             0             0   \n",
       "1             0             0             0             0             0   \n",
       "2             0             0             0             0             0   \n",
       "3             0             0             0             0             0   \n",
       "4             0             0             0             0             0   \n",
       "\n",
       "   PKD_GROUP_99  PKD_GROUP_na  TARGET  \n",
       "0             0             1       0  \n",
       "1             0             0       0  \n",
       "2             0             0       0  \n",
       "3             0             0       0  \n",
       "4             0             0       0  \n",
       "\n",
       "[5 rows x 203 columns]"
      ]
     },
     "execution_count": 3,
     "metadata": {},
     "output_type": "execute_result"
    }
   ],
   "source": [
    "train_set.head()"
   ]
  },
  {
   "cell_type": "code",
   "execution_count": 4,
   "metadata": {},
   "outputs": [],
   "source": [
    "y_train = np.array(train_set['TARGET'])\n",
    "x_train = np.array(train_set.drop(['TARGET'], axis=1))\n",
    "\n",
    "y_val = np.array(valid_set['TARGET'])\n",
    "x_val = np.array(valid_set.drop(['TARGET'], axis=1))\n",
    "\n",
    "y_test = np.array(test_set['TARGET'])\n",
    "x_test = np.array(test_set.drop(['TARGET'], axis=1))"
   ]
  },
  {
   "cell_type": "code",
   "execution_count": 5,
   "metadata": {},
   "outputs": [
    {
     "name": "stdout",
     "output_type": "stream",
     "text": [
      "(1075926, 202) (1075926,)\n",
      "(358642, 202) (358642,)\n",
      "(358643, 202) (358643,)\n"
     ]
    }
   ],
   "source": [
    "print(x_train.shape, y_train.shape)\n",
    "print(x_val.shape, y_val.shape)\n",
    "print(x_test.shape, y_test.shape)"
   ]
  },
  {
   "cell_type": "markdown",
   "metadata": {},
   "source": [
    "# Logistic regression"
   ]
  },
  {
   "cell_type": "markdown",
   "metadata": {},
   "source": [
    "n=10\n",
    "\n",
    "C_arr = np.linspace(-6, 4, n)\n",
    "train_accuracy = np.zeros(n)\n",
    "val_accuracy = np.zeros(n)\n",
    "\n",
    "for ind, C in enumerate(C_arr):    \n",
    "    print(ind)\n",
    "    logreg = LogisticRegression(solver='newton-cg', C=10**C)\n",
    "    logreg.fit(x_train, y_train)\n",
    "\n",
    "    \n",
    "    # Evaluate train & test performance\n",
    "    output = logreg.predict(x_train)\n",
    "    target = y_train\n",
    "    train_accuracy[ind] =sum(output == target)/ len(target)\n",
    "\n",
    "    output = logreg.predict(x_val)\n",
    "    target = y_val\n",
    "    val_accuracy[ind] =sum(output == target)/ len(target)"
   ]
  },
  {
   "cell_type": "markdown",
   "metadata": {},
   "source": [
    "# Plotting\n",
    "plt.figure(figsize=(18, 8))\n",
    "\n",
    "plt.plot(C_arr, train_accuracy, 'bo-', label=r'accuracy training set', color=\"violet\", alpha=0.6, linewidth=3)\n",
    "plt.plot(C_arr, val_accuracy, 'bo-', label=r'accuracy val set', color=\"darkviolet\", alpha=0.6, linewidth=3)\n",
    "\n",
    "plt.xlabel('C value'); plt.ylabel(r'accuracy')\n",
    "plt.title(r'Evaluate logistic regression with different C')\n",
    "plt.legend(loc='best')\n",
    "plt.grid()"
   ]
  },
  {
   "cell_type": "markdown",
   "metadata": {},
   "source": [
    "# FINAL EVALUATION OF THE MODEL"
   ]
  },
  {
   "cell_type": "code",
   "execution_count": 6,
   "metadata": {
    "scrolled": true
   },
   "outputs": [
    {
     "name": "stdout",
     "output_type": "stream",
     "text": [
      "Logistic Regression\n",
      "\n",
      "Accuracy on train set: 85.84 %\n",
      "\n",
      "Accuracy on validation set: 85.74 %\n",
      "\n",
      "Accuracy on testing set: 85.79 %\n"
     ]
    }
   ],
   "source": [
    "C_best = -1\n",
    "\n",
    "logreg = LogisticRegression(solver = 'newton-cg',C=10**C_best)\n",
    "logreg.fit(x_train, y_train)\n",
    "coefficients = logreg.coef_\n",
    "\n",
    "print('Logistic Regression')\n",
    "\n",
    "output = logreg.predict(x_train)\n",
    "target = y_train\n",
    "accuracy = sum(output == target)/ len(target)\n",
    "print(\"\\nAccuracy on train set: {:.2f} %\".format(accuracy*100))\n",
    "\n",
    "output = logreg.predict(x_val)\n",
    "target = y_val\n",
    "accuracy = sum(output == target)/ len(target)\n",
    "print(\"\\nAccuracy on validation set: {:.2f} %\".format(accuracy*100))\n",
    "\n",
    "\n",
    "output = logreg.predict(x_test)\n",
    "target = y_test\n",
    "accuracy = sum(output == target)/ len(target)\n",
    "print(\"\\nAccuracy on testing set: {:.2f} %\".format(accuracy*100))"
   ]
  },
  {
   "cell_type": "markdown",
   "metadata": {},
   "source": [
    "## confusion matrix"
   ]
  },
  {
   "cell_type": "code",
   "execution_count": 7,
   "metadata": {},
   "outputs": [
    {
     "name": "stdout",
     "output_type": "stream",
     "text": [
      "recall: 0.3295773748723187\n",
      "precision: 0.6972817828802972\n"
     ]
    },
    {
     "data": {
      "text/plain": [
       "Text(0.5, 68.37592263802742, 'Predicted label')"
      ]
     },
     "execution_count": 7,
     "metadata": {},
     "output_type": "execute_result"
    },
    {
     "data": {
      "image/png": "[encoded data removed]",
      "text/plain": [
       "<Figure size 864x720 with 2 Axes>"
      ]
     },
     "metadata": {
      "needs_background": "light"
     },
     "output_type": "display_data"
    }
   ],
   "source": [
    "from sklearn.metrics import recall_score\n",
    "from sklearn.metrics import precision_score\n",
    "\n",
    "from sklearn.metrics import confusion_matrix\n",
    "import itertools\n",
    "\n",
    "\n",
    "classes = [0,1]\n",
    "y_true = y_test\n",
    "y_pred = logreg.predict(x_test)\n",
    "cm = confusion_matrix(y_true, y_pred, normalize ='true')\n",
    "\n",
    "\n",
    "print(\"recall:\", recall_score(y_true, y_pred ))\n",
    "print(\"precision:\", precision_score(y_true, y_pred ))\n",
    "\n",
    "plt.imshow(cm, interpolation='nearest', cmap='Blues')\n",
    "plt.title(\"Confusion Matrix for Bagging\")\n",
    "plt.colorbar()\n",
    "tick_marks = np.arange(len(classes))\n",
    "plt.xticks(tick_marks, classes, rotation=45)\n",
    "plt.yticks(tick_marks, classes)\n",
    "\n",
    "for i, j in itertools.product(range(cm.shape[0]), range(cm.shape[1])):\n",
    "        plt.text(j, i, round(cm[i, j],3), horizontalalignment=\"center\", color=\"white\" if cm[i, j] > 0.5 else \"black\")\n",
    "\n",
    "plt.tight_layout()\n",
    "plt.ylabel('True label')\n",
    "plt.xlabel('Predicted label') "
   ]
  },
  {
   "cell_type": "code",
   "execution_count": 8,
   "metadata": {},
   "outputs": [
    {
     "name": "stdout",
     "output_type": "stream",
     "text": [
      "recall: 0.3295773748723187\n",
      "precision: 0.6972817828802972\n"
     ]
    }
   ],
   "source": [
    "print(\"recall:\", recall_score(y_true, y_pred ))\n",
    "print(\"precision:\", precision_score(y_true, y_pred ))"
   ]
  },
  {
   "cell_type": "markdown",
   "metadata": {},
   "source": [
    "### Check, what features have highest and lowest coefficients in logistic regression"
   ]
  },
  {
   "cell_type": "code",
   "execution_count": 9,
   "metadata": {},
   "outputs": [],
   "source": [
    "features = list(train_set.columns)[:-1]\n",
    "\n",
    "def get_most_correlated(coeffs, features, treshold):\n",
    "    coeffs, features = zip(*sorted(zip( coeffs, features)))  \n",
    "\n",
    "    for coef, feat in zip(coeffs, features):\n",
    "        if abs(coef) > treshold:\n",
    "            print(\"coef = {:.4f} \\tfor\\t {:}\".format(coef, feat))\n",
    "            \n",
    "            \n",
    "def get_least_correlated(coeffs, features, treshold):\n",
    "    coeffs, features = zip(*sorted(zip( coeffs, features)))  ## sorting elements in (val, freq) indexing on \n",
    "\n",
    "    for coef, feat in zip(coeffs, features):\n",
    "        if abs(coef) < treshold:\n",
    "            print(\"coef = {:.4f} \\tfor\\t {:}\".format(coef, feat))"
   ]
  },
  {
   "cell_type": "markdown",
   "metadata": {},
   "source": [
    "## most important"
   ]
  },
  {
   "cell_type": "code",
   "execution_count": 10,
   "metadata": {},
   "outputs": [
    {
     "name": "stdout",
     "output_type": "stream",
     "text": [
      "Most correlated\n",
      "coef = -2.4084 \tfor\t HAS_IP\n",
      "coef = -1.7773 \tfor\t COMPANY_SIZE_NaN\n",
      "coef = -1.3466 \tfor\t PPK_STAGE_4\n",
      "coef = -1.3231 \tfor\t RATIO_IS_SUSPENDED_0.0\n",
      "coef = -1.0622 \tfor\t HAS_AW\n",
      "coef = 1.2723 \tfor\t PKD_GROUP_56\n",
      "coef = 1.4650 \tfor\t COMPANY_TYPE_NaN\n",
      "coef = 2.6196 \tfor\t RATIO_IS_SUSPENDED_1.0\n"
     ]
    }
   ],
   "source": [
    "print(\"Most correlated\")\n",
    "get_most_correlated(coefficients[0], features, 1)"
   ]
  },
  {
   "cell_type": "code",
   "execution_count": 11,
   "metadata": {},
   "outputs": [
    {
     "name": "stdout",
     "output_type": "stream",
     "text": [
      "Least correlated\n",
      "coef = -0.0470 \tfor\t PKD_GROUP_38\n",
      "coef = -0.0465 \tfor\t COMPANY_TYPE_18.0\n",
      "coef = -0.0419 \tfor\t PKD_GROUP_52\n",
      "coef = -0.0417 \tfor\t NATIONALITY_114\n",
      "coef = -0.0338 \tfor\t PPK_BANK_20\n",
      "coef = -0.0309 \tfor\t COMPANY_TYPE_3.0\n",
      "coef = -0.0288 \tfor\t PKD_GROUP_72\n",
      "coef = -0.0278 \tfor\t PKD_GROUP_37\n",
      "coef = -0.0254 \tfor\t PPK_BANK_2\n",
      "coef = -0.0241 \tfor\t COMPANY_TYPE_9.0\n",
      "coef = -0.0234 \tfor\t COMPANY_TYPE_25.0\n",
      "coef = -0.0189 \tfor\t PKD_GROUP_57\n",
      "coef = -0.0185 \tfor\t PKD_GROUP_62\n",
      "coef = -0.0054 \tfor\t NATIONALITY_49\n",
      "coef = 0.0035 \tfor\t PPK_BANK_18\n",
      "coef = 0.0036 \tfor\t PKD_GROUP_96\n",
      "coef = 0.0052 \tfor\t NATIONALITY_0\n",
      "coef = 0.0078 \tfor\t PPK_BANK_9\n",
      "coef = 0.0089 \tfor\t PKD_GROUP_71\n",
      "coef = 0.0104 \tfor\t SEX_N\n",
      "coef = 0.0112 \tfor\t PKD_GROUP_0.\n",
      "coef = 0.0137 \tfor\t PKD_GROUP_30\n",
      "coef = 0.0183 \tfor\t PPK_BANK_14\n",
      "coef = 0.0186 \tfor\t PKD_GROUP_49\n",
      "coef = 0.0210 \tfor\t AGE\n",
      "coef = 0.0220 \tfor\t PKD_GROUP_na\n",
      "coef = 0.0250 \tfor\t PKD_GROUP_39\n",
      "coef = 0.0281 \tfor\t COMPANY_TYPE_5.0\n",
      "coef = 0.0300 \tfor\t PKD_GROUP_80\n",
      "coef = 0.0310 \tfor\t PKD_GROUP_61\n",
      "coef = 0.0356 \tfor\t PKD_GROUP_29\n",
      "coef = 0.0362 \tfor\t PKD_GROUP_53\n",
      "coef = 0.0455 \tfor\t PKD_GROUP_90\n",
      "coef = 0.0456 \tfor\t NATIONALITY_120\n",
      "coef = 0.0474 \tfor\t PPK_BANK_8\n",
      "coef = 0.0475 \tfor\t PKD_GROUP_7.\n",
      "coef = 0.0490 \tfor\t COMPANY_TYPE_13.0\n",
      "coef = 0.0497 \tfor\t PPK_BANK_6\n"
     ]
    },
    {
     "data": {
      "text/plain": [
       "<function __main__.get_least_correlated(coeffs, features, treshold)>"
      ]
     },
     "execution_count": 11,
     "metadata": {},
     "output_type": "execute_result"
    }
   ],
   "source": [
    "print(\"Least correlated\")\n",
    "get_least_correlated(coefficients[0], features, 0.05)\n",
    "get_least_correlated"
   ]
  },
  {
   "cell_type": "code",
   "execution_count": null,
   "metadata": {},
   "outputs": [],
   "source": []
  },
  {
   "cell_type": "code",
   "execution_count": null,
   "metadata": {},
   "outputs": [],
   "source": []
  },
  {
   "cell_type": "code",
   "execution_count": null,
   "metadata": {},
   "outputs": [],
   "source": []
  }
 ],
 "metadata": {
  "kernelspec": {
   "display_name": "Python 3",
   "language": "python",
   "name": "python3"
  },
  "language_info": {
   "codemirror_mode": {
    "name": "ipython",
    "version": 3
   },
   "file_extension": ".py",
   "mimetype": "text/x-python",
   "name": "python",
   "nbconvert_exporter": "python",
   "pygments_lexer": "ipython3",
   "version": "3.8.5"
  }
 },
 "nbformat": 4,
 "nbformat_minor": 2
}
