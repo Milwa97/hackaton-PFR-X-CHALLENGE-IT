{
 "cells": [
  {
   "cell_type": "code",
   "execution_count": 1,
   "metadata": {},
   "outputs": [],
   "source": [
    "import numpy as np\n",
    "import pandas as pd\n",
    "import torch\n",
    "import torchvision\n",
    "import matplotlib.pyplot as plt\n",
    "import torch.nn as nn\n",
    "\n",
    "from typing import Tuple\n",
    "from typing import List\n",
    "from copy import deepcopy, copy\n",
    "\n",
    "from torch import nn\n",
    "from torch.optim import SGD\n",
    "from torch.nn.functional import cross_entropy\n",
    "\n",
    "import sklearn\n",
    "import sklearn.metrics \n",
    "#from sklearn.metrics import recall_score\n",
    "#from sklearn.metrics import precision_score"
   ]
  },
  {
   "cell_type": "markdown",
   "metadata": {},
   "source": [
    "# Read data and create data loader:"
   ]
  },
  {
   "cell_type": "code",
   "execution_count": 2,
   "metadata": {},
   "outputs": [
    {
     "data": {
      "text/html": [
       "<div>\n",
       "<style scoped>\n",
       "    .dataframe tbody tr th:only-of-type {\n",
       "        vertical-align: middle;\n",
       "    }\n",
       "\n",
       "    .dataframe tbody tr th {\n",
       "        vertical-align: top;\n",
       "    }\n",
       "\n",
       "    .dataframe thead th {\n",
       "        text-align: right;\n",
       "    }\n",
       "</style>\n",
       "<table border=\"1\" class=\"dataframe\">\n",
       "  <thead>\n",
       "    <tr style=\"text-align: right;\">\n",
       "      <th></th>\n",
       "      <th>AGE</th>\n",
       "      <th>HAS_AE</th>\n",
       "      <th>HAS_AW</th>\n",
       "      <th>HAS_IP</th>\n",
       "      <th>LOGICAL_FACTOR_1</th>\n",
       "      <th>LOGICAL_FACTOR_2</th>\n",
       "      <th>SEX_K</th>\n",
       "      <th>SEX_M</th>\n",
       "      <th>SEX_N</th>\n",
       "      <th>NATIONALITY_0</th>\n",
       "      <th>...</th>\n",
       "      <th>PKD_GROUP_90</th>\n",
       "      <th>PKD_GROUP_91</th>\n",
       "      <th>PKD_GROUP_93</th>\n",
       "      <th>PKD_GROUP_95</th>\n",
       "      <th>PKD_GROUP_96</th>\n",
       "      <th>PKD_GROUP_97</th>\n",
       "      <th>PKD_GROUP_98</th>\n",
       "      <th>PKD_GROUP_99</th>\n",
       "      <th>PKD_GROUP_na</th>\n",
       "      <th>TARGET</th>\n",
       "    </tr>\n",
       "  </thead>\n",
       "  <tbody>\n",
       "    <tr>\n",
       "      <th>0</th>\n",
       "      <td>-0.831952</td>\n",
       "      <td>0</td>\n",
       "      <td>0</td>\n",
       "      <td>0</td>\n",
       "      <td>0</td>\n",
       "      <td>0</td>\n",
       "      <td>0</td>\n",
       "      <td>1</td>\n",
       "      <td>0</td>\n",
       "      <td>0</td>\n",
       "      <td>...</td>\n",
       "      <td>0</td>\n",
       "      <td>0</td>\n",
       "      <td>0</td>\n",
       "      <td>0</td>\n",
       "      <td>0</td>\n",
       "      <td>0</td>\n",
       "      <td>0</td>\n",
       "      <td>0</td>\n",
       "      <td>1</td>\n",
       "      <td>1</td>\n",
       "    </tr>\n",
       "    <tr>\n",
       "      <th>1</th>\n",
       "      <td>-0.611007</td>\n",
       "      <td>0</td>\n",
       "      <td>0</td>\n",
       "      <td>0</td>\n",
       "      <td>0</td>\n",
       "      <td>0</td>\n",
       "      <td>1</td>\n",
       "      <td>0</td>\n",
       "      <td>0</td>\n",
       "      <td>0</td>\n",
       "      <td>...</td>\n",
       "      <td>0</td>\n",
       "      <td>0</td>\n",
       "      <td>0</td>\n",
       "      <td>0</td>\n",
       "      <td>0</td>\n",
       "      <td>0</td>\n",
       "      <td>0</td>\n",
       "      <td>0</td>\n",
       "      <td>0</td>\n",
       "      <td>1</td>\n",
       "    </tr>\n",
       "    <tr>\n",
       "      <th>2</th>\n",
       "      <td>-1.077384</td>\n",
       "      <td>0</td>\n",
       "      <td>0</td>\n",
       "      <td>0</td>\n",
       "      <td>0</td>\n",
       "      <td>0</td>\n",
       "      <td>1</td>\n",
       "      <td>0</td>\n",
       "      <td>0</td>\n",
       "      <td>0</td>\n",
       "      <td>...</td>\n",
       "      <td>0</td>\n",
       "      <td>0</td>\n",
       "      <td>0</td>\n",
       "      <td>0</td>\n",
       "      <td>0</td>\n",
       "      <td>0</td>\n",
       "      <td>0</td>\n",
       "      <td>0</td>\n",
       "      <td>0</td>\n",
       "      <td>1</td>\n",
       "    </tr>\n",
       "    <tr>\n",
       "      <th>3</th>\n",
       "      <td>-0.634381</td>\n",
       "      <td>0</td>\n",
       "      <td>0</td>\n",
       "      <td>0</td>\n",
       "      <td>0</td>\n",
       "      <td>0</td>\n",
       "      <td>0</td>\n",
       "      <td>1</td>\n",
       "      <td>0</td>\n",
       "      <td>0</td>\n",
       "      <td>...</td>\n",
       "      <td>0</td>\n",
       "      <td>0</td>\n",
       "      <td>0</td>\n",
       "      <td>0</td>\n",
       "      <td>0</td>\n",
       "      <td>0</td>\n",
       "      <td>0</td>\n",
       "      <td>0</td>\n",
       "      <td>0</td>\n",
       "      <td>0</td>\n",
       "    </tr>\n",
       "    <tr>\n",
       "      <th>4</th>\n",
       "      <td>0.059898</td>\n",
       "      <td>0</td>\n",
       "      <td>0</td>\n",
       "      <td>1</td>\n",
       "      <td>0</td>\n",
       "      <td>0</td>\n",
       "      <td>1</td>\n",
       "      <td>0</td>\n",
       "      <td>0</td>\n",
       "      <td>0</td>\n",
       "      <td>...</td>\n",
       "      <td>0</td>\n",
       "      <td>0</td>\n",
       "      <td>0</td>\n",
       "      <td>0</td>\n",
       "      <td>0</td>\n",
       "      <td>0</td>\n",
       "      <td>0</td>\n",
       "      <td>0</td>\n",
       "      <td>0</td>\n",
       "      <td>0</td>\n",
       "    </tr>\n",
       "  </tbody>\n",
       "</table>\n",
       "<p>5 rows × 203 columns</p>\n",
       "</div>"
      ],
      "text/plain": [
       "        AGE  HAS_AE  HAS_AW  HAS_IP  LOGICAL_FACTOR_1  LOGICAL_FACTOR_2  \\\n",
       "0 -0.831952       0       0       0                 0                 0   \n",
       "1 -0.611007       0       0       0                 0                 0   \n",
       "2 -1.077384       0       0       0                 0                 0   \n",
       "3 -0.634381       0       0       0                 0                 0   \n",
       "4  0.059898       0       0       1                 0                 0   \n",
       "\n",
       "   SEX_K  SEX_M  SEX_N  NATIONALITY_0  ...  PKD_GROUP_90  PKD_GROUP_91  \\\n",
       "0      0      1      0              0  ...             0             0   \n",
       "1      1      0      0              0  ...             0             0   \n",
       "2      1      0      0              0  ...             0             0   \n",
       "3      0      1      0              0  ...             0             0   \n",
       "4      1      0      0              0  ...             0             0   \n",
       "\n",
       "   PKD_GROUP_93  PKD_GROUP_95  PKD_GROUP_96  PKD_GROUP_97  PKD_GROUP_98  \\\n",
       "0             0             0             0             0             0   \n",
       "1             0             0             0             0             0   \n",
       "2             0             0             0             0             0   \n",
       "3             0             0             0             0             0   \n",
       "4             0             0             0             0             0   \n",
       "\n",
       "   PKD_GROUP_99  PKD_GROUP_na  TARGET  \n",
       "0             0             1       1  \n",
       "1             0             0       1  \n",
       "2             0             0       1  \n",
       "3             0             0       0  \n",
       "4             0             0       0  \n",
       "\n",
       "[5 rows x 203 columns]"
      ]
     },
     "execution_count": 2,
     "metadata": {},
     "output_type": "execute_result"
    }
   ],
   "source": [
    "train_set = pd.read_csv('train_set_V.csv')[:500000]\n",
    "valid_set = pd.read_csv('val_set_V.csv')[:50000]\n",
    "test_set = pd.read_csv('test_set_V.csv')[:50000]\n",
    "\n",
    "valid_set.head()"
   ]
  },
  {
   "cell_type": "code",
   "execution_count": 3,
   "metadata": {},
   "outputs": [],
   "source": [
    "y_train = np.array(train_set['TARGET'])\n",
    "x_train = np.array(train_set.drop(['TARGET'], axis=1))\n",
    "\n",
    "y_val = np.array(valid_set['TARGET'])\n",
    "x_val = np.array(valid_set.drop(['TARGET'], axis=1))\n",
    "\n",
    "y_test = np.array(test_set['TARGET'])\n",
    "x_test = np.array(test_set.drop(['TARGET'], axis=1))"
   ]
  },
  {
   "cell_type": "code",
   "execution_count": 4,
   "metadata": {},
   "outputs": [
    {
     "name": "stdout",
     "output_type": "stream",
     "text": [
      "torch.Size([500000, 202]) torch.Size([500000])\n",
      "torch.Size([50000, 202]) torch.Size([50000])\n",
      "torch.Size([50000, 202]) torch.Size([50000])\n"
     ]
    }
   ],
   "source": [
    "x_train = torch.from_numpy(x_train).float()\n",
    "y_train = torch.from_numpy(y_train).long()\n",
    "\n",
    "x_val =  torch.from_numpy(x_val).float()\n",
    "y_val =  torch.from_numpy(y_val).long()\n",
    "\n",
    "x_test =  torch.from_numpy(x_test).float()\n",
    "y_test =  torch.from_numpy(y_test).long()\n",
    "\n",
    "print(x_train.shape, y_train.shape)\n",
    "print(x_val.shape, y_val.shape)\n",
    "print(x_test.shape, y_test.shape)\n"
   ]
  },
  {
   "cell_type": "code",
   "execution_count": 5,
   "metadata": {},
   "outputs": [],
   "source": [
    "input_dim = x_train.shape[1]\n",
    "output_dim = 2 ## number of classes"
   ]
  },
  {
   "cell_type": "markdown",
   "metadata": {},
   "source": [
    "# Neural network model:"
   ]
  },
  {
   "cell_type": "code",
   "execution_count": 6,
   "metadata": {},
   "outputs": [],
   "source": [
    "class TheModelClass(nn.Module):\n",
    "    def __init__(self, input_dim, hidden_dim1,hidden_dim2, output_dim):\n",
    "        super(TheModelClass, self).__init__()\n",
    "        \n",
    "        self.fc1 = nn.Linear(input_dim, hidden_dim1)\n",
    "        self.fc2 = nn.Linear(hidden_dim1, hidden_dim2)\n",
    "        self.fc3 = nn.Linear(hidden_dim2, output_dim)\n",
    "\n",
    "    def forward(self, x):   ## softmax, tanh, relu, sigmoid\n",
    "        x = torch.tanh(self.fc1(x))   \n",
    "        x = torch.tanh(self.fc2(x))\n",
    "        x = self.fc3(x)\n",
    "        return x"
   ]
  },
  {
   "cell_type": "code",
   "execution_count": 7,
   "metadata": {},
   "outputs": [],
   "source": [
    "def train_my_network(x_train, y_train, x_test, y_test, epoch, lr, momentum, hidden_dim1, hidden_dim2):\n",
    "    \n",
    "    \n",
    "    # initialize the model, loss function and optimizer\n",
    "    model: TheModelClass = TheModelClass(input_dim, 40,40,output_dim)\n",
    "    optimizer: torch.optim.Optimizer = SGD(model.parameters(), lr=lr, momentum=momentum)\n",
    "    criterion = nn.CrossEntropyLoss()\n",
    "    \n",
    "    ## for visual \n",
    "    loss_tab = []\n",
    "    test_accuracy_tab = []\n",
    "    train_accuracy_tab = []\n",
    "    \n",
    "    ## training loop:\n",
    "    for e in range(epoch):   \n",
    "        ## shuffle training data\n",
    "        ordering = np.arange(x_train.shape[0])\n",
    "        np.random.shuffle(ordering)\n",
    "        x_train = x_train[ordering]\n",
    "        y_train = y_train[ordering]\n",
    "        \n",
    "        optimizer.zero_grad()\n",
    "        output: torch.Tensor = model(x_train)  \n",
    "        loss: torch.Tensor = criterion(output, y_train)            \n",
    "        loss.backward()\n",
    "        optimizer.step()\n",
    "        loss_tab.append(loss.item())        \n",
    "        \n",
    "        with torch.no_grad():\n",
    "            output: torch.Tensor = model(x_train)  \n",
    "            pred_labels = torch.argmax(output, 1)\n",
    "            correct = ( (pred_labels - y_train) ==0).sum()\n",
    "            train_accuracy_tab.append( float(correct) / len(y_train))\n",
    "            #print(f\"epoch {e} \\tTrain accuracy: \", train_accuracy_tab[-1])   \n",
    "            \n",
    "            output: torch.Tensor = model(x_test)  \n",
    "            pred_labels = torch.argmax(output, 1)\n",
    "            correct = ( (pred_labels - y_test) ==0).sum()\n",
    "            test_accuracy_tab.append( float(correct) / len(y_test))\n",
    "            #print(f\"epoch {e} \\tTest accuracy: \", test_accuracy_tab[-1])  \n",
    "            y_true = np.array(y_test) \n",
    "            y_pred = pred_labels\n",
    "            recall_score = sklearn.metrics.recall_score( y_true, y_pred) \n",
    "            precision_score = sklearn.metrics.precision_score(y_true, y_pred)\n",
    "          \n",
    "    ## Vizualisation\n",
    "    fig, axs = plt.subplots(1, 2, figsize = (16, 5))\n",
    "    axs[0].plot(loss_tab, color = 'indigo')\n",
    "    axs[1].plot(train_accuracy_tab, color='pink')\n",
    "    axs[1].plot(test_accuracy_tab, color='indigo')\n",
    "    axs[0].set_xlabel('epoch')\n",
    "    axs[0].set_ylabel('loss')\n",
    "    axs[0].grid(True)\n",
    "    axs[1].set_xlabel('epoch')\n",
    "    axs[1].set_ylabel('accuracy')\n",
    "    axs[1].grid(True)\n",
    "    plt.show()\n",
    "    \n",
    "\n",
    "    print(\"accuracy on training set: {:}\\t testing set: {:}, precision = {:}, recall={:}\".format(train_accuracy_tab[-1], test_accuracy_tab[-1], precision_score, recall_score ))\n",
    "    return model"
   ]
  },
  {
   "cell_type": "markdown",
   "metadata": {},
   "source": [
    "# Grid search:"
   ]
  },
  {
   "cell_type": "markdown",
   "metadata": {},
   "source": [
    "epoch: int = 300\n",
    "hidden_dim1 = 50#100\n",
    "hidden_dim2 = 50#100\n",
    "\n",
    "lr_tab = [0.04, 0.06, 0.08]\n",
    "momentum_tab = [0.8, 0.9]\n",
    "\n",
    "for lr in lr_tab:\n",
    "    for momentum in momentum_tab:\n",
    "        train_my_network(x_train, y_train, x_val, y_val, epoch, lr, momentum, hidden_dim1, hidden_dim2)\n",
    "        print(\"lr = \", lr, \"momentum = \", momentum )"
   ]
  },
  {
   "cell_type": "markdown",
   "metadata": {},
   "source": [
    "epoch: int = 300\n",
    "hidden_dim1 = 100\n",
    "hidden_dim2 = 100\n",
    "\n",
    "lr_tab = [0.04, 0.06, 0.08]\n",
    "momentum_tab = [0.9, 0.8]\n",
    "\n",
    "for lr in lr_tab:\n",
    "    for momentum in momentum_tab:\n",
    "        train_my_network(x_train, y_train, x_val, y_val, epoch, lr, momentum, hidden_dim1, hidden_dim2)\n",
    "        print(\"lr = \", lr, \"momentum = \", momentum )"
   ]
  },
  {
   "cell_type": "markdown",
   "metadata": {},
   "source": [
    "epoch: int = 400\n",
    "hidden_dim1 = 100\n",
    "hidden_dim2 = 100\n",
    "\n",
    "lr_tab = [0.06, 0.08]\n",
    "momentum_tab = [0.9, 1.0]\n",
    "\n",
    "for lr in lr_tab:\n",
    "    for momentum in momentum_tab:\n",
    "        train_my_network(x_train, y_train, x_val, y_val, epoch, lr, momentum, hidden_dim1, hidden_dim2)\n",
    "        print(\"lr = \", lr, \"momentum = \", momentum )"
   ]
  },
  {
   "cell_type": "markdown",
   "metadata": {},
   "source": [
    "# Best models - choosen parameters "
   ]
  },
  {
   "cell_type": "code",
   "execution_count": 8,
   "metadata": {},
   "outputs": [
    {
     "name": "stderr",
     "output_type": "stream",
     "text": [
      "/home/neofelia/anaconda3/lib/python3.8/site-packages/sklearn/metrics/_classification.py:1221: UndefinedMetricWarning: Precision is ill-defined and being set to 0.0 due to no predicted samples. Use `zero_division` parameter to control this behavior.\n",
      "  _warn_prf(average, modifier, msg_start, len(result))\n"
     ]
    },
    {
     "data": {
      "image/png": "[encoded data removed]",
      "text/plain": [
       "<Figure size 1152x360 with 2 Axes>"
      ]
     },
     "metadata": {
      "needs_background": "light"
     },
     "output_type": "display_data"
    },
    {
     "name": "stdout",
     "output_type": "stream",
     "text": [
      "accuracy on training set: 0.85939\t testing set: 0.86086, precision = 0.704995287464656, recall=0.3440266758652409\n"
     ]
    }
   ],
   "source": [
    "epoch: int = 400\n",
    "lr =  0.06\n",
    "momentum = 0.9\n",
    "hidden_dim1 = 100\n",
    "hidden_dim2 = 100\n",
    "\n",
    "model = train_my_network(x_train, y_train, x_test, y_test, epoch, lr, momentum, hidden_dim1, hidden_dim2)"
   ]
  },
  {
   "cell_type": "markdown",
   "metadata": {},
   "source": [
    "## Save model"
   ]
  },
  {
   "cell_type": "code",
   "execution_count": 9,
   "metadata": {},
   "outputs": [
    {
     "name": "stdout",
     "output_type": "stream",
     "text": [
      "Model's state_dict:\n",
      "fc1.weight \t torch.Size([40, 202])\n",
      "fc1.bias \t torch.Size([40])\n",
      "fc2.weight \t torch.Size([40, 40])\n",
      "fc2.bias \t torch.Size([40])\n",
      "fc3.weight \t torch.Size([2, 40])\n",
      "fc3.bias \t torch.Size([2])\n"
     ]
    }
   ],
   "source": [
    "# Print model's state_dict\n",
    "print(\"Model's state_dict:\")\n",
    "for param_tensor in model.state_dict():\n",
    "    print(param_tensor, \"\\t\", model.state_dict()[param_tensor].size())\n",
    "    \n",
    "torch.save(model.state_dict(), \"neural_network_model.h4\")"
   ]
  },
  {
   "cell_type": "markdown",
   "metadata": {},
   "source": [
    "## Load model"
   ]
  },
  {
   "cell_type": "code",
   "execution_count": 10,
   "metadata": {},
   "outputs": [
    {
     "data": {
      "text/plain": [
       "<All keys matched successfully>"
      ]
     },
     "execution_count": 10,
     "metadata": {},
     "output_type": "execute_result"
    }
   ],
   "source": [
    "model = TheModelClass(input_dim, 40,40,output_dim)\n",
    "model.load_state_dict(torch.load(\"neural_network_model.h4\"))"
   ]
  },
  {
   "cell_type": "markdown",
   "metadata": {},
   "source": [
    "# Final evaluation:"
   ]
  },
  {
   "cell_type": "code",
   "execution_count": 11,
   "metadata": {},
   "outputs": [
    {
     "name": "stdout",
     "output_type": "stream",
     "text": [
      "Test accuracy: 85.94 %\n",
      "Test accuracy: 85.85 %\n",
      "Test accuracy: 86.09 %\n",
      "Presicion on testing set: 0.704995287464656\n",
      "Recall on testing set: 0.3440266758652409\n"
     ]
    }
   ],
   "source": [
    "with torch.no_grad():\n",
    "    output: torch.Tensor = model(x_train)  \n",
    "    pred_labels = torch.argmax(output, 1)\n",
    "    correct = ( (pred_labels - y_train) ==0).sum()\n",
    "    accuracy = ( float(correct) / len(y_train))\n",
    "    print(\"Test accuracy: {:.2f} %\".format(accuracy * 100))       \n",
    "    \n",
    "    output: torch.Tensor = model(x_val)  \n",
    "    pred_labels = torch.argmax(output, 1)\n",
    "    correct = ( (pred_labels - y_val) ==0).sum()\n",
    "    accuracy = ( float(correct) / len(y_val))\n",
    "    print(\"Test accuracy: {:.2f} %\".format(accuracy * 100))       \n",
    "    \n",
    "    output: torch.Tensor = model(x_test)  \n",
    "    pred_labels = torch.argmax(output, 1)\n",
    "    correct = ( (pred_labels - y_test) ==0).sum()\n",
    "    accuracy = ( float(correct) / len(y_test))\n",
    "    print(\"Test accuracy: {:.2f} %\".format(accuracy * 100))   \n",
    "    \n",
    "    \n",
    "    y_true = np.array(y_test) \n",
    "    y_pred = pred_labels\n",
    "    recall_score = sklearn.metrics.recall_score( y_true, y_pred) \n",
    "    precision_score = sklearn.metrics.precision_score(y_true, y_pred)\n",
    "    \n",
    "    print(\"Presicion on testing set:\", precision_score)\n",
    "    print(\"Recall on testing set:\", recall_score)"
   ]
  },
  {
   "cell_type": "code",
   "execution_count": null,
   "metadata": {},
   "outputs": [],
   "source": []
  }
 ],
 "metadata": {
  "kernelspec": {
   "display_name": "Python 3",
   "language": "python",
   "name": "python3"
  },
  "language_info": {
   "codemirror_mode": {
    "name": "ipython",
    "version": 3
   },
   "file_extension": ".py",
   "mimetype": "text/x-python",
   "name": "python",
   "nbconvert_exporter": "python",
   "pygments_lexer": "ipython3",
   "version": "3.8.5"
  }
 },
 "nbformat": 4,
 "nbformat_minor": 4
}
