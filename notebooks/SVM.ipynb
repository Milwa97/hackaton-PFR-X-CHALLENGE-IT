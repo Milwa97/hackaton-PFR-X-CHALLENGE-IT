{
 "cells": [
  {
   "cell_type": "code",
   "execution_count": 1,
   "metadata": {},
   "outputs": [],
   "source": [
    "import pandas as pd\n",
    "import numpy as np\n",
    "import warnings\n",
    "warnings.filterwarnings('ignore')\n",
    "\n",
    "from sklearn.svm import SVC\n",
    "from typing import List, Tuple\n",
    "import matplotlib.pyplot as plt\n",
    "\n",
    "from sklearn.metrics import recall_score\n",
    "from sklearn.metrics import precision_score\n",
    "\n",
    "from sklearn.metrics import confusion_matrix\n",
    "import itertools"
   ]
  },
  {
   "cell_type": "markdown",
   "metadata": {},
   "source": [
    "## training set, validation set, testing set"
   ]
  },
  {
   "cell_type": "code",
   "execution_count": 2,
   "metadata": {},
   "outputs": [],
   "source": [
    "train_set = pd.read_csv('train_set_V.csv')[:100000]\n",
    "test_set = pd.read_csv('test_set_V.csv')[:10000]"
   ]
  },
  {
   "cell_type": "code",
   "execution_count": 3,
   "metadata": {},
   "outputs": [],
   "source": [
    "y_train = np.array(train_set['TARGET'])\n",
    "x_train = np.array(train_set.drop(['TARGET'], axis=1))\n",
    "\n",
    "y_test = np.array(test_set['TARGET'])\n",
    "x_test = np.array(test_set.drop(['TARGET'], axis=1))"
   ]
  },
  {
   "cell_type": "code",
   "execution_count": 4,
   "metadata": {},
   "outputs": [
    {
     "name": "stdout",
     "output_type": "stream",
     "text": [
      "(100000, 202) (100000,)\n",
      "(10000, 202) (10000,)\n"
     ]
    }
   ],
   "source": [
    "print(x_train.shape, y_train.shape)\n",
    "print(x_test.shape, y_test.shape)"
   ]
  },
  {
   "cell_type": "markdown",
   "metadata": {},
   "source": [
    "# Grid search"
   ]
  },
  {
   "cell_type": "code",
   "execution_count": 5,
   "metadata": {},
   "outputs": [],
   "source": [
    "from typing import List, Tuple\n",
    "\n",
    "def cross_validation(X: np.ndarray, y: np.ndarray, k: int) -> List[Tuple[np.ndarray, np.ndarray, \n",
    "                                                                         np.ndarray, np.ndarray]]:  \n",
    "    n = int(len(X)/k )+1   # number of elements in each group\n",
    "    subsets_X = []\n",
    "    subsets_y = []\n",
    "    \n",
    "    for i in range(k-1):\n",
    "        subsets_X.append(X[i*n: (i+1)*n])\n",
    "        subsets_y.append(y[i*n: (i+1)*n])\n",
    "    \n",
    "    subsets_X.append(X [(k-1)*n:])\n",
    "    subsets_y.append(y [(k-1)*n:])\n",
    "    tuples_to_return = []\n",
    "    \n",
    "    for i in range(k):\n",
    "        indexes = np.arange(k)\n",
    "        train_indexes = (np.delete(indexes, i)).astype(int)\n",
    "        train_data =  np.vstack([subsets_X[j] for j in train_indexes ])\n",
    "        train_labels =  np.hstack([ subsets_y[j] for j in train_indexes] )     \n",
    "        test_data = np.array(subsets_X[i])\n",
    "        test_labels = np.array(subsets_y[i])                \n",
    "        tuples_to_return.append( (train_data, train_labels, test_data, test_labels)  )\n",
    "        \n",
    "    return tuples_to_return"
   ]
  },
  {
   "cell_type": "code",
   "execution_count": 6,
   "metadata": {},
   "outputs": [],
   "source": [
    "def find_best_params_Poly(datasets):\n",
    "    \n",
    "    C_list = list(map(lambda x : 10**(x), [-3,-2,-1,0,1,2]))\n",
    "    degree_list = list(map(lambda x : x, [1,2]))\n",
    "    coef_list = list(map(lambda x : x, [-10, -1, 0, 0.1, 1, 10]))\n",
    "    gamma_list = list(map(lambda x : 10**(-x), [0,1,2,3]))\n",
    "\n",
    "    scores = []\n",
    "    \n",
    "    for C in C_list:\n",
    "        for gamma in gamma_list:\n",
    "            for coef in coef_list:\n",
    "                for degree in degree_list:\n",
    "                    \n",
    "                    val_accuracy = []\n",
    "                    for dataset in datasets:\n",
    "                        svm = SVC(kernel = 'poly', C = C, degree = degree)\n",
    "                        svm.fit(dataset[0], dataset[1])\n",
    "                        val_acc = svm.score(dataset[2], dataset[3])\n",
    "                        val_accuracy.append(val_acc)\n",
    "\n",
    "                    scores.append( (C, gamma, np.mean(val_accuracy) ) )\n",
    "                    print(\"C = \",C, \"degree:\", degree, \"coef \", coef, \"gamma \", gamma, \"accuracy:\", np.mean(val_accuracy), len(val_accuracy))\n",
    "       \n",
    "    argmax= np.argmax(scores, axis = 0)[2]\n",
    "    print(\"\\n\\nPoly: accuracy: {:} for C = {:}, gamma  = {:}\".format( scores[argmax][2],scores[argmax][0],scores[argmax][1])  )\n",
    "    "
   ]
  },
  {
   "cell_type": "code",
   "execution_count": 7,
   "metadata": {},
   "outputs": [],
   "source": [
    "def find_best_params_rbf(datasets):\n",
    "    \n",
    "    C_list = list(map(lambda x : 10**(x), [-3,-2,-1,0,1,2]))\n",
    "    gamma_list = list(map(lambda x : 10**(-x), [0,1,2,3]))\n",
    "    coef_list = list(map(lambda x : x, [-10, -1, 0, 0.1, 1, 10]))\n",
    "\n",
    "    scores = []\n",
    "    \n",
    "    for coef in coef_list:\n",
    "        for C in C_list:\n",
    "            for gamma in gamma_list:\n",
    "                val_accuracy = []\n",
    "\n",
    "                for dataset in datasets:\n",
    "                    svm = SVC(kernel = 'rbf', C = C, gamma=gamma, coef0 = coef)\n",
    "                    svm.fit(dataset[0], dataset[1])\n",
    "                    val_acc = svm.score(dataset[2], dataset[3])\n",
    "                    val_accuracy.append(val_acc)\n",
    "\n",
    "                scores.append( (C, gamma, coef, np.mean(val_accuracy) ) )\n",
    "                #print(\"C = \", C, \"gamma\", gamma, \"mean accuracy:\", np.mean(val_accuracy), len(val_accuracy))\n",
    "\n",
    "    argmax= np.argmax(scores, axis = 0)[3]\n",
    "    print(\"rbf: accuracy: {:} for C = {:}, gamma  = {:}, coef = {:}\".format( scores[argmax][3],scores[argmax][0],scores[argmax][1], scores[argmax][2])  )\n",
    " "
   ]
  },
  {
   "cell_type": "code",
   "execution_count": 8,
   "metadata": {},
   "outputs": [],
   "source": [
    "def find_best_params_linear(datasets):\n",
    "\n",
    "    C_list = list(map(lambda x : 10**(x), [-3,-2,-1,0,1,2,3]))\n",
    "    gamma_list = list(map(lambda x : 10**(-x), [0,1,2,3]))\n",
    "    coef_list = list(map(lambda x : x, [-10, -1, 0, 0.1, 1, 10]))\n",
    "    scores = []\n",
    "    \n",
    "    for coef in coef_list:\n",
    "        for C in C_list:  \n",
    "            for gamma in gamma_list:\n",
    "\n",
    "                val_accuracy = []\n",
    "                for dataset in datasets:\n",
    "                    svm = SVC(kernel = 'linear', C = C, gamma=gamma,  coef0 = coef)\n",
    "                    svm.fit(dataset[0], dataset[1])\n",
    "                    val_acc = svm.score(dataset[2], dataset[3])\n",
    "                    val_accuracy.append(val_acc)\n",
    "\n",
    "                scores.append( (C,gamma,coef,np.mean(val_accuracy) ) )\n",
    "                #print(\"C = \", C, \"gamma\", gamma, \"mean accuracy:\", np.mean(val_accuracy), len(val_accuracy))\n",
    "    \n",
    "    argmax= np.argmax(scores, axis = 0)[3]\n",
    "    print(\"linear: accuracy: {:} for C = {:}, gamma= {:} coef = {:}\".format( scores[argmax][3],scores[argmax][0], scores[argmax][1],  scores[argmax][2],   )  )"
   ]
  },
  {
   "cell_type": "code",
   "execution_count": 9,
   "metadata": {},
   "outputs": [],
   "source": [
    "def find_best_params_sigmoid(datasets):\n",
    "       \n",
    "    C_list = list(map(lambda x : 10**(x), [-6,-5,-4,-3,-2,-1,0,1,2]))\n",
    "    scores = []\n",
    "    \n",
    "    for C in C_list:\n",
    "        val_accuracy = []\n",
    "        for dataset in datasets:\n",
    "            svm = SVC(kernel ='sigmoid', C = C)\n",
    "            svm.fit(dataset[0], dataset[1])\n",
    "            val_acc = svm.score(dataset[2], dataset[3])\n",
    "            val_accuracy.append(val_acc)\n",
    "\n",
    "            scores.append( (C, np.mean(val_accuracy) ) )\n",
    "            #print(\"C = \", C, \"mean accuracy:\", np.mean(val_accuracy), \"len\", len(val_accuracy))\n",
    "\n",
    "    argmax= np.argmax(scores, axis = 0)[1]\n",
    "    print(\"sigmoid: accuracy: {:} for C = {:}\".format( scores[argmax][1], scores[argmax][0],   )  )"
   ]
  },
  {
   "cell_type": "markdown",
   "metadata": {},
   "source": [
    "# Grid search using different kernels:"
   ]
  },
  {
   "cell_type": "code",
   "execution_count": 10,
   "metadata": {},
   "outputs": [],
   "source": [
    "#datasets = cross_validation(x_train, y_train, k= 3)\n",
    "#for dataset in datasets:       \n",
    "#    datasets_val = cross_validation(dataset[0], dataset[1], k= 3)\n",
    "#    find_best_params_sigmoid(datasets_val)"
   ]
  },
  {
   "cell_type": "code",
   "execution_count": 11,
   "metadata": {},
   "outputs": [],
   "source": [
    "#for dataset in datasets:       \n",
    "#    datasets_val = cross_validation(dataset[0], dataset[1], k= 3)\n",
    "#    find_best_params_Poly(datasets_val)"
   ]
  },
  {
   "cell_type": "code",
   "execution_count": 12,
   "metadata": {},
   "outputs": [],
   "source": [
    "#for dataset in datasets:       \n",
    "#    datasets_val = cross_validation(dataset[0], dataset[1], k= 3)\n",
    "#    find_best_params_rbf(datasets_val) "
   ]
  },
  {
   "cell_type": "code",
   "execution_count": 13,
   "metadata": {},
   "outputs": [],
   "source": [
    "#for dataset in datasets:       \n",
    "#    datasets_val = cross_validation(dataset[0], dataset[1], k= 3)\n",
    "#    find_best_params_linear(datasets_val)"
   ]
  },
  {
   "cell_type": "markdown",
   "metadata": {},
   "source": [
    "## Evaluate the model with best params:"
   ]
  },
  {
   "cell_type": "code",
   "execution_count": 14,
   "metadata": {},
   "outputs": [
    {
     "name": "stdout",
     "output_type": "stream",
     "text": [
      "RBF kernel, accuracy on test set = 0.8264\n"
     ]
    }
   ],
   "source": [
    "SVC_rbf = SVC(kernel ='rbf', C = 0.001, gamma =  0.1, coef0 = -10)\n",
    "SVC_rbf.fit(x_train, y_train)\n",
    "accuracy = SVC_rbf.score(x_test, y_test)\n",
    "print(\"RBF kernel, accuracy on test set = {:}\".format(accuracy))  ## updated"
   ]
  },
  {
   "cell_type": "code",
   "execution_count": 15,
   "metadata": {},
   "outputs": [
    {
     "name": "stdout",
     "output_type": "stream",
     "text": [
      "Sigmoid kernel, accuracy on test set = 0.8264\n"
     ]
    }
   ],
   "source": [
    "SVC_sigmoid = SVC(kernel ='sigmoid', C = 1e-5)\n",
    "SVC_sigmoid.fit(x_train, y_train)\n",
    "accuracy = SVC_sigmoid.score(x_test, y_test)\n",
    "print(\"Sigmoid kernel, accuracy on test set = {:}\".format(accuracy))"
   ]
  },
  {
   "cell_type": "code",
   "execution_count": 16,
   "metadata": {},
   "outputs": [
    {
     "name": "stdout",
     "output_type": "stream",
     "text": [
      "Linear kernel, accuracy on test set = 0.8409\n"
     ]
    }
   ],
   "source": [
    "SVC_linear = SVC(kernel ='linear', C = 0.1,  gamma =  0.1)\n",
    "SVC_linear.fit(x_train, y_train)\n",
    "accuracy = SVC_linear.score(x_test, y_test)\n",
    "print(\"Linear kernel, accuracy on test set = {:}\".format(accuracy))"
   ]
  },
  {
   "cell_type": "code",
   "execution_count": null,
   "metadata": {},
   "outputs": [],
   "source": []
  },
  {
   "cell_type": "code",
   "execution_count": null,
   "metadata": {},
   "outputs": [],
   "source": []
  },
  {
   "cell_type": "code",
   "execution_count": null,
   "metadata": {},
   "outputs": [],
   "source": []
  },
  {
   "cell_type": "markdown",
   "metadata": {},
   "source": [
    "# Best model: final evaluation"
   ]
  },
  {
   "cell_type": "code",
   "execution_count": 25,
   "metadata": {},
   "outputs": [
    {
     "name": "stdout",
     "output_type": "stream",
     "text": [
      "\n",
      "Accuracy on train set: 83.64 %\n",
      "\n",
      "Accuracy on testing set: 84.09 %\n"
     ]
    }
   ],
   "source": [
    "output = SVC_linear.predict(x_train)\n",
    "target = y_train\n",
    "accuracy = sum(output == target)/ len(target)\n",
    "print(\"\\nAccuracy on train set: {:.2f} %\".format(accuracy*100))\n",
    "\n",
    "output = SVC_linear.predict(x_test)\n",
    "target = y_test\n",
    "accuracy = sum(output == target)/ len(target)\n",
    "print(\"\\nAccuracy on testing set: {:.2f} %\".format(accuracy*100))"
   ]
  },
  {
   "cell_type": "code",
   "execution_count": 26,
   "metadata": {},
   "outputs": [
    {
     "name": "stdout",
     "output_type": "stream",
     "text": [
      "recall: 0.09331797235023041\n",
      "precision: 0.9050279329608939\n"
     ]
    },
    {
     "data": {
      "text/plain": [
       "Text(0.5, 13.421126458070283, 'Predicted label')"
      ]
     },
     "execution_count": 26,
     "metadata": {},
     "output_type": "execute_result"
    },
    {
     "data": {
      "image/png": "[encoded data removed]",
      "text/plain": [
       "<Figure size 432x288 with 2 Axes>"
      ]
     },
     "metadata": {
      "needs_background": "light"
     },
     "output_type": "display_data"
    }
   ],
   "source": [
    "classes = [0,1]\n",
    "y_true = y_test\n",
    "y_pred = output #SVC_rbf(x_test)\n",
    "cm = confusion_matrix(y_true, y_pred, normalize ='true')\n",
    "\n",
    "\n",
    "print(\"recall:\", recall_score(y_true, y_pred ))\n",
    "print(\"precision:\", precision_score(y_true, y_pred ))\n",
    "\n",
    "plt.imshow(cm, interpolation='nearest', cmap='Blues')\n",
    "plt.title(\"Confusion Matrix for Bagging\")\n",
    "plt.colorbar()\n",
    "tick_marks = np.arange(len(classes))\n",
    "plt.xticks(tick_marks, classes, rotation=45)\n",
    "plt.yticks(tick_marks, classes)\n",
    "\n",
    "for i, j in itertools.product(range(cm.shape[0]), range(cm.shape[1])):\n",
    "        plt.text(j, i, round(cm[i, j],3), horizontalalignment=\"center\", color=\"white\" if cm[i, j] > 0.5 else \"black\")\n",
    "\n",
    "plt.tight_layout()\n",
    "plt.ylabel('True label')\n",
    "plt.xlabel('Predicted label') "
   ]
  },
  {
   "cell_type": "code",
   "execution_count": 29,
   "metadata": {},
   "outputs": [
    {
     "name": "stdout",
     "output_type": "stream",
     "text": [
      "\n",
      "Accuracy on train set: 82.45 %\n",
      "\n",
      "Accuracy on testing set: 82.64 %\n"
     ]
    }
   ],
   "source": [
    "output = SVC_sigmoid.predict(x_train)\n",
    "target = y_train\n",
    "accuracy = sum(output == target)/ len(target)\n",
    "print(\"\\nAccuracy on train set: {:.2f} %\".format(accuracy*100))\n",
    "\n",
    "output = SVC_sigmoid.predict(x_test)\n",
    "target = y_test\n",
    "accuracy = sum(output == target)/ len(target)\n",
    "print(\"\\nAccuracy on testing set: {:.2f} %\".format(accuracy*100))"
   ]
  },
  {
   "cell_type": "code",
   "execution_count": 30,
   "metadata": {},
   "outputs": [
    {
     "name": "stdout",
     "output_type": "stream",
     "text": [
      "recall: 0.0\n",
      "precision: 0.0\n"
     ]
    },
    {
     "data": {
      "text/plain": [
       "Text(0.5, 13.421126458070283, 'Predicted label')"
      ]
     },
     "execution_count": 30,
     "metadata": {},
     "output_type": "execute_result"
    },
    {
     "data": {
      "image/png": "[encoded data removed]",
      "text/plain": [
       "<Figure size 432x288 with 2 Axes>"
      ]
     },
     "metadata": {
      "needs_background": "light"
     },
     "output_type": "display_data"
    }
   ],
   "source": [
    "classes = [0,1]\n",
    "y_true = y_test\n",
    "y_pred = output #SVC_rbf(x_test)\n",
    "cm = confusion_matrix(y_true, y_pred, normalize ='true')\n",
    "\n",
    "\n",
    "print(\"recall:\", recall_score(y_true, y_pred ))\n",
    "print(\"precision:\", precision_score(y_true, y_pred ))\n",
    "\n",
    "plt.imshow(cm, interpolation='nearest', cmap='Blues')\n",
    "plt.title(\"Confusion Matrix for Bagging\")\n",
    "plt.colorbar()\n",
    "tick_marks = np.arange(len(classes))\n",
    "plt.xticks(tick_marks, classes, rotation=45)\n",
    "plt.yticks(tick_marks, classes)\n",
    "\n",
    "for i, j in itertools.product(range(cm.shape[0]), range(cm.shape[1])):\n",
    "        plt.text(j, i, round(cm[i, j],3), horizontalalignment=\"center\", color=\"white\" if cm[i, j] > 0.5 else \"black\")\n",
    "\n",
    "plt.tight_layout()\n",
    "plt.ylabel('True label')\n",
    "plt.xlabel('Predicted label') "
   ]
  },
  {
   "cell_type": "code",
   "execution_count": null,
   "metadata": {},
   "outputs": [],
   "source": []
  }
 ],
 "metadata": {
  "kernelspec": {
   "display_name": "Python 3",
   "language": "python",
   "name": "python3"
  },
  "language_info": {
   "codemirror_mode": {
    "name": "ipython",
    "version": 3
   },
   "file_extension": ".py",
   "mimetype": "text/x-python",
   "name": "python",
   "nbconvert_exporter": "python",
   "pygments_lexer": "ipython3",
   "version": "3.8.5"
  }
 },
 "nbformat": 4,
 "nbformat_minor": 4
}
